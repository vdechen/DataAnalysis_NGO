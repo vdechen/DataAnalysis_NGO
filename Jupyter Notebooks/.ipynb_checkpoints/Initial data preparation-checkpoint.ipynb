{
 "cells": [
  {
   "cell_type": "code",
   "execution_count": null,
   "id": "e89eb14f",
   "metadata": {},
   "outputs": [],
   "source": [
    "# import libraries\n",
    "import pandas as pd\n",
    "import numpy as np"
   ]
  },
  {
   "cell_type": "code",
   "execution_count": null,
   "id": "20c84369",
   "metadata": {},
   "outputs": [],
   "source": [
    "# read \"financial\" csv\n",
    "financial = pd.read_csv(r\"C:\\Users\\Vanessa\\Downloads\\Projeto Final\\2016 - 2023.csv\", usecols = [0, 1, 2, 4, 5, 7], index_col = None)"
   ]
  },
  {
   "cell_type": "code",
   "execution_count": null,
   "id": "215fcc0f",
   "metadata": {},
   "outputs": [],
   "source": [
    "# split csv into a list a dataframes\n",
    "financial_list = np.split(financial, financial[(financial.isna().all(axis = 1))|(financial.iloc[:,0].str.contains('MÊS'))].index)"
   ]
  },
  {
   "cell_type": "code",
   "execution_count": null,
   "id": "790dfb8e",
   "metadata": {},
   "outputs": [],
   "source": [
    "# identify not null dataframes from the list, rename columns and add them to another list\n",
    "clean_data = []\n",
    "for i in financial_list:\n",
    "    if i.isna().values.all():\n",
    "        pass\n",
    "    else:\n",
    "        if i.iloc[:,0].str.contains('MÊS').any():\n",
    "            i.columns = ['dia', 'receita', 'depositante', 'despesas', 'favorecido', 'saldo']\n",
    "            clean_data.append(i)     \n",
    "clean_data"
   ]
  },
  {
   "cell_type": "code",
   "execution_count": null,
   "id": "9355fcb3",
   "metadata": {},
   "outputs": [],
   "source": [
    "# add \"month\" and \"year\" columns, reorder columns, drop unwanted rows and save dataframes as excel files\n",
    "for i in range(len(clean_data)):\n",
    "    clean_data[i]['mês'] = re.findall('\\w+', clean_data[i].iloc[0,1])[0]\n",
    "    clean_data[i]['ano'] = '20' + (re.findall('\\w+', clean_data[i].iloc[0,1])[1]) \n",
    "    clean_data[i] = clean_data[i][['ano', 'mês', 'dia', 'receita', 'depositante', 'despesas', 'favorecido', 'saldo']]\n",
    "    clean_data[i].drop(clean_data[i].index[0:3], inplace = True)\n",
    "    clean_data[i].to_excel(f'tabela_{i}.xlsx', index = False)"
   ]
  }
 ],
 "metadata": {
  "kernelspec": {
   "display_name": "Python 3 (ipykernel)",
   "language": "python",
   "name": "python3"
  },
  "language_info": {
   "codemirror_mode": {
    "name": "ipython",
    "version": 3
   },
   "file_extension": ".py",
   "mimetype": "text/x-python",
   "name": "python",
   "nbconvert_exporter": "python",
   "pygments_lexer": "ipython3",
   "version": "3.9.12"
  },
  "toc": {
   "base_numbering": 1,
   "nav_menu": {},
   "number_sections": true,
   "sideBar": true,
   "skip_h1_title": false,
   "title_cell": "Table of Contents",
   "title_sidebar": "Contents",
   "toc_cell": false,
   "toc_position": {},
   "toc_section_display": true,
   "toc_window_display": false
  },
  "varInspector": {
   "cols": {
    "lenName": 16,
    "lenType": 16,
    "lenVar": 40
   },
   "kernels_config": {
    "python": {
     "delete_cmd_postfix": "",
     "delete_cmd_prefix": "del ",
     "library": "var_list.py",
     "varRefreshCmd": "print(var_dic_list())"
    },
    "r": {
     "delete_cmd_postfix": ") ",
     "delete_cmd_prefix": "rm(",
     "library": "var_list.r",
     "varRefreshCmd": "cat(var_dic_list()) "
    }
   },
   "types_to_exclude": [
    "module",
    "function",
    "builtin_function_or_method",
    "instance",
    "_Feature"
   ],
   "window_display": false
  }
 },
 "nbformat": 4,
 "nbformat_minor": 5
}
