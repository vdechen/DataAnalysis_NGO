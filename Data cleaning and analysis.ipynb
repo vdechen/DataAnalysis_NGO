{
 "cells": [
  {
   "cell_type": "markdown",
   "id": "e7dabf99",
   "metadata": {},
   "source": [
    "# Data reading and cleaning"
   ]
  },
  {
   "cell_type": "code",
   "execution_count": 2,
   "id": "e886cb71",
   "metadata": {
    "ExecuteTime": {
     "end_time": "2023-03-09T15:08:29.286661Z",
     "start_time": "2023-03-09T15:08:28.734965Z"
    }
   },
   "outputs": [],
   "source": [
    "# import libraries\n",
    "import pandas as pd\n",
    "import numpy as np\n",
    "import re\n",
    "pd.options.display.max_rows = 1000\n",
    "pd.options.display.max_columns = 1000"
   ]
  },
  {
   "cell_type": "code",
   "execution_count": 3,
   "id": "b62d4c3c",
   "metadata": {
    "ExecuteTime": {
     "end_time": "2023-03-09T15:08:30.554606Z",
     "start_time": "2023-03-09T15:08:29.287767Z"
    }
   },
   "outputs": [],
   "source": [
    "# read \"animals\" csv\n",
    "animals = pd.read_excel(r\"C:\\Users\\Vanessa\\Downloads\\Dados\\Programas\\Repositório Git\\NGO_DataAnalysis\\raw tables\\animais_2016_2019.xlsx\", index_col = None)"
   ]
  },
  {
   "cell_type": "code",
   "execution_count": 4,
   "id": "28c64d57",
   "metadata": {
    "ExecuteTime": {
     "end_time": "2023-03-09T15:08:30.570916Z",
     "start_time": "2023-03-09T15:08:30.556147Z"
    }
   },
   "outputs": [],
   "source": [
    "# rename \"animals\" columns\n",
    "animals.columns = animals.columns.str.lower().str.strip()"
   ]
  },
  {
   "cell_type": "code",
   "execution_count": 5,
   "id": "b76a6fa8",
   "metadata": {
    "ExecuteTime": {
     "end_time": "2023-03-09T15:08:31.876608Z",
     "start_time": "2023-03-09T15:08:30.573094Z"
    },
    "cell_style": "center"
   },
   "outputs": [
    {
     "data": {
      "text/plain": [
       "ano            float64\n",
       "mês             object\n",
       "dia            float64\n",
       "receita         object\n",
       "depositante     object\n",
       "despesas        object\n",
       "favorecido      object\n",
       "saldo           object\n",
       "dtype: object"
      ]
     },
     "execution_count": 5,
     "metadata": {},
     "output_type": "execute_result"
    }
   ],
   "source": [
    "# read excel files after manual cleaning and join tables in a single dataset\n",
    "tables_df = pd.DataFrame()\n",
    "for i in range(0,82):\n",
    "    a = pd.read_excel(fr\"C:\\Users\\Vanessa\\Downloads\\Dados\\Programas\\Repositório Git\\NGO_DataAnalysis\\clean tables\\tabela_{i}.xls\")\n",
    "    tables_df = pd.concat([tables_df, a], ignore_index = True)\n",
    "tables_df.dtypes"
   ]
  },
  {
   "cell_type": "code",
   "execution_count": 6,
   "id": "45b60b4f",
   "metadata": {
    "ExecuteTime": {
     "end_time": "2023-03-09T15:08:31.892624Z",
     "start_time": "2023-03-09T15:08:31.878346Z"
    },
    "cell_style": "split"
   },
   "outputs": [],
   "source": [
    "# create \"expenses\" dataframe and drop nulls\n",
    "expenses = tables_df[['ano', 'mês', 'dia', 'despesas', 'favorecido']].copy()\n",
    "expenses.dropna(subset = 'despesas', axis = 0, inplace=True)\n",
    "expenses.reset_index(drop = True, inplace = True)"
   ]
  },
  {
   "cell_type": "code",
   "execution_count": 7,
   "id": "60be32ab",
   "metadata": {
    "ExecuteTime": {
     "end_time": "2023-03-09T15:08:31.908408Z",
     "start_time": "2023-03-09T15:08:31.894109Z"
    },
    "cell_style": "split"
   },
   "outputs": [],
   "source": [
    "# create \"income\" dataframe and drop nulls\n",
    "income = tables_df[['ano', 'mês', 'dia', 'receita', 'depositante']].copy()\n",
    "income.dropna(subset = 'receita', axis = 0, inplace=True)\n",
    "income.reset_index(drop = True, inplace = True)"
   ]
  },
  {
   "cell_type": "code",
   "execution_count": 8,
   "id": "82b77731",
   "metadata": {
    "ExecuteTime": {
     "end_time": "2023-03-09T15:08:32.080581Z",
     "start_time": "2023-03-09T15:08:31.909944Z"
    },
    "cell_style": "center"
   },
   "outputs": [
    {
     "data": {
      "text/plain": [
       "transporte                          1330\n",
       "salários e auxílios alimentação     1025\n",
       "taxas, tarifas e impostos            724\n",
       "ração e agropecuária                 656\n",
       "medicações e veterinário             536\n",
       "outros                               321\n",
       "hospedagem e manutenção de canis     244\n",
       "suprimentos                          203\n",
       "bazar, divulgação e tecnologias       82\n",
       "Name: favorecido, dtype: int64"
      ]
     },
     "execution_count": 8,
     "metadata": {},
     "output_type": "execute_result"
    }
   ],
   "source": [
    "# create categories for 'expenses'\n",
    "\n",
    "mask = expenses['favorecido'].str.contains('sal|intercamb|alim|lanch|temperinho|rest|pão|café|panif|doce|confeitaria|subway|gratificação|sabor|hong ju|mansa', flags = re.I)\n",
    "sal = np.where(mask, 'salários e auxílios alimentação', expenses['favorecido'])\n",
    "expenses.loc[:,'favorecido'] = sal\n",
    "\n",
    "mask2 = expenses['favorecido'].str.contains('sup|super|hiper|hipper|mercado|bistek|milium|embala|atacad|cassol|agua|distrib|loja|zeus|comerc', flags = re.I)\n",
    "sup = np.where(mask2, 'suprimentos', expenses['favorecido'])\n",
    "expenses.loc[:,'favorecido'] = sup\n",
    "\n",
    "mask3 = expenses['favorecido'].str.contains('medic|clínica|clinica|vet|remédio|farm|biofilia|gral|asamed|pet|cuidados|panvel|acupuntura|raio x|praiana|castração|tosa|cremat', flags = re.I)\n",
    "medic = np.where(mask3, 'medicações e veterinário', expenses['favorecido'])\n",
    "expenses.loc[:,'favorecido'] = medic\n",
    "\n",
    "mask4 = expenses['favorecido'].str.contains('hosp|poeta|lilian ribeiro|lar|cuidadora|casa|canil|canis|inse', flags = re.I)\n",
    "hosp = np.where(mask4, 'hospedagem e manutenção de canis', expenses['favorecido'])\n",
    "expenses.loc[:,'favorecido'] = hosp\n",
    "\n",
    "mask5 = expenses['favorecido'].str.contains('agro|ração|reção|pecuária|terra|arcadia', flags = re.I)\n",
    "rac = np.where(mask5, 'ração e agropecuária', expenses['favorecido'])\n",
    "expenses.loc[:,'favorecido'] = rac\n",
    "\n",
    "mask7 = expenses['favorecido'].str.contains('combust|escap|posto|seguro|veíc|motorista|car|borrack|park|auto|taxi|táxi|tàxi|frete|motor|estac|floripeças|multa|mecanica|mecânica|mecãnica|parachoque|borrach|estrela|localiza', flags = re.I)\n",
    "trans = np.where(mask7, 'transporte', expenses['favorecido'])\n",
    "expenses.loc[:,'favorecido'] = trans\n",
    "\n",
    "mask6 = expenses['favorecido'].str.contains('camis|malhas|mat|jebelus|agenda|vest|patchwork|plumas|bazar|graf|gráf|digital|mtools|eletr|hd|site|notebook|face|cópias|copia|plot|mídia|chip|marca|mix|print', flags = re.I)\n",
    "vend = np.where(mask6, 'bazar, divulgação e tecnologias', expenses['favorecido'])\n",
    "expenses.loc[:,'favorecido'] = vend\n",
    "\n",
    "mask8 = expenses['favorecido'].str.contains('empr|apli|renda', flags = re.I)\n",
    "emp = np.where(mask8, 'empréstimos e aplicações', expenses['favorecido'])\n",
    "expenses.loc[:,'favorecido'] = emp\n",
    "\n",
    "mask9 = expenses['favorecido'].str.contains('tarif|INSS|IR|taxa|IPVA|DARF|celesc|tim|distrit|alvará|cadastro|licen|trib|certif|dss|cmf', flags = re.I)\n",
    "tax = np.where(mask9, 'taxas, tarifas e impostos', expenses['favorecido'])\n",
    "expenses.loc[:,'favorecido'] = tax\n",
    "\n",
    "outros_mask = ~(expenses['favorecido'].isin(['salários e auxílios alimentação', 'suprimentos', 'medicações e veterinário', 'hospedagem e manutenção de canis', 'ração e agropecuária', 'bazar, divulgação e tecnologias', 'transporte', 'empréstimos e aplicações', 'taxas, tarifas e impostos']))\n",
    "expenses.loc[outros_mask,'favorecido'] = \"outros\"\n",
    "expenses['favorecido'].value_counts()"
   ]
  },
  {
   "cell_type": "code",
   "execution_count": 9,
   "id": "691263c1",
   "metadata": {
    "ExecuteTime": {
     "end_time": "2023-03-09T15:08:32.111405Z",
     "start_time": "2023-03-09T15:08:32.081676Z"
    }
   },
   "outputs": [],
   "source": [
    "# create categories for income\n",
    "\n",
    "mask = income['depositante'].str.contains('doaç|ração|v.d.|\\d|DD|cielo|cielo|pag|pic', regex = True, flags = re.I)\n",
    "doa = np.where(mask, 'doações e vendas', income['depositante'])\n",
    "income.loc[:,'depositante'] = doa\n",
    "\n",
    "mask2 = income['depositante'].str.contains('empr|apli|resg|rend', regex = True, flags = re.I)\n",
    "emp = np.where(mask2, 'empréstimos e aplicações', income['depositante'])\n",
    "income.loc[:,'depositante'] = emp\n",
    "\n",
    "mask3 = income['depositante'].str.contains('Pista', regex = True, flags = re.I)\n",
    "proj = np.where(mask3, 'projeto Autopista Litoral Sul', income['depositante'])\n",
    "income.loc[:,'depositante'] = proj\n",
    "\n",
    "mask4 = income['depositante'].str.contains('justiça|PMF ', regex = True, flags = re.I)\n",
    "gov = np.where(mask4, 'governo', income['depositante'])\n",
    "income.loc[:,'depositante'] = gov\n",
    "\n",
    "mask5 = income['depositante'].str.contains('div|tran|int|seguro|rog|BB|dif', regex = True, flags = re.I)\n",
    "out = np.where(mask5, 'outros', income['depositante'])\n",
    "income.loc[:,'depositante'] = out"
   ]
  },
  {
   "cell_type": "code",
   "execution_count": 10,
   "id": "dd5cbfa3",
   "metadata": {
    "ExecuteTime": {
     "end_time": "2023-03-09T15:08:32.126828Z",
     "start_time": "2023-03-09T15:08:32.112495Z"
    },
    "cell_style": "split",
    "scrolled": false
   },
   "outputs": [
    {
     "data": {
      "text/plain": [
       "transporte                          1330\n",
       "salários e auxílios alimentação     1025\n",
       "taxas, tarifas e impostos            724\n",
       "ração e agropecuária                 656\n",
       "medicações e veterinário             536\n",
       "outros                               321\n",
       "hospedagem e manutenção de canis     244\n",
       "suprimentos                          203\n",
       "bazar, divulgação e tecnologias       82\n",
       "Name: favorecido, dtype: int64"
      ]
     },
     "execution_count": 10,
     "metadata": {},
     "output_type": "execute_result"
    }
   ],
   "source": [
    "# final categories for 'expenses'\n",
    "expenses['favorecido'].value_counts()"
   ]
  },
  {
   "cell_type": "code",
   "execution_count": 11,
   "id": "ba238202",
   "metadata": {
    "ExecuteTime": {
     "end_time": "2023-03-09T15:08:32.142653Z",
     "start_time": "2023-03-09T15:08:32.129365Z"
    },
    "cell_style": "split"
   },
   "outputs": [
    {
     "data": {
      "text/plain": [
       "doações e vendas                 1710\n",
       "empréstimos e aplicações          411\n",
       "projeto Autopista Litoral Sul      31\n",
       "governo                            14\n",
       "outros                             10\n",
       "Name: depositante, dtype: int64"
      ]
     },
     "execution_count": 11,
     "metadata": {},
     "output_type": "execute_result"
    }
   ],
   "source": [
    "# final categories for 'income'\n",
    "income['depositante'].value_counts()"
   ]
  },
  {
   "cell_type": "code",
   "execution_count": 12,
   "id": "c28e0826",
   "metadata": {
    "ExecuteTime": {
     "end_time": "2023-03-09T15:08:32.174535Z",
     "start_time": "2023-03-09T15:08:32.145235Z"
    },
    "cell_style": "center"
   },
   "outputs": [],
   "source": [
    "#converting data types\n",
    "expenses['despesas'] = expenses['despesas'].astype(str).str.strip()\n",
    "expenses['despesas'] = expenses['despesas'].str.replace(',', '')\n",
    "expenses['despesas'] = expenses['despesas'].astype(float)\n",
    "expenses['ano'] = expenses['ano'].astype(int)\n",
    "income['receita'] = income['receita'].astype(str).str.strip()\n",
    "income['receita'] = income['receita'].str.replace(',', '')\n",
    "income['receita'] = income['receita'].astype(float)\n",
    "income['ano'] = income['ano'].astype(int)\n"
   ]
  },
  {
   "cell_type": "code",
   "execution_count": 14,
   "id": "63be414b",
   "metadata": {
    "ExecuteTime": {
     "end_time": "2023-03-09T15:08:44.848476Z",
     "start_time": "2023-03-09T15:08:44.821966Z"
    }
   },
   "outputs": [
    {
     "data": {
      "text/html": [
       "<div>\n",
       "<style scoped>\n",
       "    .dataframe tbody tr th:only-of-type {\n",
       "        vertical-align: middle;\n",
       "    }\n",
       "\n",
       "    .dataframe tbody tr th {\n",
       "        vertical-align: top;\n",
       "    }\n",
       "\n",
       "    .dataframe thead th {\n",
       "        text-align: right;\n",
       "    }\n",
       "</style>\n",
       "<table border=\"1\" class=\"dataframe\">\n",
       "  <thead>\n",
       "    <tr style=\"text-align: right;\">\n",
       "      <th></th>\n",
       "      <th>ano</th>\n",
       "      <th>mês</th>\n",
       "      <th>dia</th>\n",
       "      <th>receita</th>\n",
       "      <th>depositante</th>\n",
       "    </tr>\n",
       "  </thead>\n",
       "  <tbody>\n",
       "    <tr>\n",
       "      <th>0</th>\n",
       "      <td>2016</td>\n",
       "      <td>Sep</td>\n",
       "      <td>1.0</td>\n",
       "      <td>565.00</td>\n",
       "      <td>doações e vendas</td>\n",
       "    </tr>\n",
       "    <tr>\n",
       "      <th>1</th>\n",
       "      <td>2016</td>\n",
       "      <td>Sep</td>\n",
       "      <td>2.0</td>\n",
       "      <td>350.00</td>\n",
       "      <td>doações e vendas</td>\n",
       "    </tr>\n",
       "    <tr>\n",
       "      <th>2</th>\n",
       "      <td>2016</td>\n",
       "      <td>Sep</td>\n",
       "      <td>5.0</td>\n",
       "      <td>360.00</td>\n",
       "      <td>doações e vendas</td>\n",
       "    </tr>\n",
       "    <tr>\n",
       "      <th>3</th>\n",
       "      <td>2016</td>\n",
       "      <td>Sep</td>\n",
       "      <td>6.0</td>\n",
       "      <td>140.00</td>\n",
       "      <td>doações e vendas</td>\n",
       "    </tr>\n",
       "    <tr>\n",
       "      <th>4</th>\n",
       "      <td>2016</td>\n",
       "      <td>Sep</td>\n",
       "      <td>8.0</td>\n",
       "      <td>440.00</td>\n",
       "      <td>doações e vendas</td>\n",
       "    </tr>\n",
       "    <tr>\n",
       "      <th>...</th>\n",
       "      <td>...</td>\n",
       "      <td>...</td>\n",
       "      <td>...</td>\n",
       "      <td>...</td>\n",
       "      <td>...</td>\n",
       "    </tr>\n",
       "    <tr>\n",
       "      <th>2171</th>\n",
       "      <td>2022</td>\n",
       "      <td>Nov</td>\n",
       "      <td>28.0</td>\n",
       "      <td>310.00</td>\n",
       "      <td>doações e vendas</td>\n",
       "    </tr>\n",
       "    <tr>\n",
       "      <th>2172</th>\n",
       "      <td>2022</td>\n",
       "      <td>Nov</td>\n",
       "      <td>28.0</td>\n",
       "      <td>144.25</td>\n",
       "      <td>empréstimos e aplicações</td>\n",
       "    </tr>\n",
       "    <tr>\n",
       "      <th>2173</th>\n",
       "      <td>2022</td>\n",
       "      <td>Nov</td>\n",
       "      <td>29.0</td>\n",
       "      <td>260.00</td>\n",
       "      <td>doações e vendas</td>\n",
       "    </tr>\n",
       "    <tr>\n",
       "      <th>2174</th>\n",
       "      <td>2022</td>\n",
       "      <td>Nov</td>\n",
       "      <td>30.0</td>\n",
       "      <td>30.00</td>\n",
       "      <td>doações e vendas</td>\n",
       "    </tr>\n",
       "    <tr>\n",
       "      <th>2175</th>\n",
       "      <td>2022</td>\n",
       "      <td>Nov</td>\n",
       "      <td>30.0</td>\n",
       "      <td>261.30</td>\n",
       "      <td>empréstimos e aplicações</td>\n",
       "    </tr>\n",
       "  </tbody>\n",
       "</table>\n",
       "<p>2176 rows × 5 columns</p>\n",
       "</div>"
      ],
      "text/plain": [
       "       ano  mês   dia  receita               depositante\n",
       "0     2016  Sep   1.0   565.00          doações e vendas\n",
       "1     2016  Sep   2.0   350.00          doações e vendas\n",
       "2     2016  Sep   5.0   360.00          doações e vendas\n",
       "3     2016  Sep   6.0   140.00          doações e vendas\n",
       "4     2016  Sep   8.0   440.00          doações e vendas\n",
       "...    ...  ...   ...      ...                       ...\n",
       "2171  2022  Nov  28.0   310.00          doações e vendas\n",
       "2172  2022  Nov  28.0   144.25  empréstimos e aplicações\n",
       "2173  2022  Nov  29.0   260.00          doações e vendas\n",
       "2174  2022  Nov  30.0    30.00          doações e vendas\n",
       "2175  2022  Nov  30.0   261.30  empréstimos e aplicações\n",
       "\n",
       "[2176 rows x 5 columns]"
      ]
     },
     "execution_count": 14,
     "metadata": {},
     "output_type": "execute_result"
    }
   ],
   "source": [
    "income"
   ]
  },
  {
   "cell_type": "markdown",
   "id": "dc46a412",
   "metadata": {
    "heading_collapsed": true
   },
   "source": [
    "# Exploratory analysis"
   ]
  },
  {
   "cell_type": "code",
   "execution_count": 12,
   "id": "b1abeba8",
   "metadata": {
    "ExecuteTime": {
     "end_time": "2023-03-08T01:00:42.395154Z",
     "start_time": "2023-03-08T01:00:42.380607Z"
    },
    "cell_style": "split",
    "hidden": true
   },
   "outputs": [
    {
     "name": "stdout",
     "output_type": "stream",
     "text": [
      "<class 'pandas.core.frame.DataFrame'>\n",
      "RangeIndex: 5121 entries, 0 to 5120\n",
      "Data columns (total 5 columns):\n",
      " #   Column      Non-Null Count  Dtype  \n",
      "---  ------      --------------  -----  \n",
      " 0   ano         5121 non-null   int32  \n",
      " 1   mês         5121 non-null   object \n",
      " 2   dia         5114 non-null   float64\n",
      " 3   despesas    5121 non-null   float64\n",
      " 4   favorecido  5121 non-null   object \n",
      "dtypes: float64(2), int32(1), object(2)\n",
      "memory usage: 180.2+ KB\n"
     ]
    }
   ],
   "source": [
    "expenses.info()"
   ]
  },
  {
   "cell_type": "code",
   "execution_count": 13,
   "id": "ade413b7",
   "metadata": {
    "ExecuteTime": {
     "end_time": "2023-03-08T01:00:42.410855Z",
     "start_time": "2023-03-08T01:00:42.395154Z"
    },
    "cell_style": "split",
    "hidden": true
   },
   "outputs": [
    {
     "name": "stdout",
     "output_type": "stream",
     "text": [
      "<class 'pandas.core.frame.DataFrame'>\n",
      "RangeIndex: 2176 entries, 0 to 2175\n",
      "Data columns (total 5 columns):\n",
      " #   Column       Non-Null Count  Dtype  \n",
      "---  ------       --------------  -----  \n",
      " 0   ano          2176 non-null   int32  \n",
      " 1   mês          2176 non-null   object \n",
      " 2   dia          2175 non-null   float64\n",
      " 3   receita      2176 non-null   float64\n",
      " 4   depositante  2176 non-null   object \n",
      "dtypes: float64(2), int32(1), object(2)\n",
      "memory usage: 76.6+ KB\n"
     ]
    }
   ],
   "source": [
    "income.info()"
   ]
  },
  {
   "cell_type": "code",
   "execution_count": 14,
   "id": "27b9da9d",
   "metadata": {
    "ExecuteTime": {
     "end_time": "2023-03-08T01:00:42.430561Z",
     "start_time": "2023-03-08T01:00:42.410855Z"
    },
    "cell_style": "split",
    "hidden": true
   },
   "outputs": [
    {
     "data": {
      "text/html": [
       "<div>\n",
       "<style scoped>\n",
       "    .dataframe tbody tr th:only-of-type {\n",
       "        vertical-align: middle;\n",
       "    }\n",
       "\n",
       "    .dataframe tbody tr th {\n",
       "        vertical-align: top;\n",
       "    }\n",
       "\n",
       "    .dataframe thead th {\n",
       "        text-align: right;\n",
       "    }\n",
       "</style>\n",
       "<table border=\"1\" class=\"dataframe\">\n",
       "  <thead>\n",
       "    <tr style=\"text-align: right;\">\n",
       "      <th></th>\n",
       "      <th>ano</th>\n",
       "      <th>mês</th>\n",
       "      <th>dia</th>\n",
       "      <th>despesas</th>\n",
       "      <th>favorecido</th>\n",
       "    </tr>\n",
       "  </thead>\n",
       "  <tbody>\n",
       "    <tr>\n",
       "      <th>0</th>\n",
       "      <td>2016</td>\n",
       "      <td>Sep</td>\n",
       "      <td>1.0</td>\n",
       "      <td>2000.00</td>\n",
       "      <td>salários e auxílios alimentação</td>\n",
       "    </tr>\n",
       "    <tr>\n",
       "      <th>1</th>\n",
       "      <td>2016</td>\n",
       "      <td>Sep</td>\n",
       "      <td>2.0</td>\n",
       "      <td>363.00</td>\n",
       "      <td>ração e agropecuária</td>\n",
       "    </tr>\n",
       "    <tr>\n",
       "      <th>2</th>\n",
       "      <td>2016</td>\n",
       "      <td>Sep</td>\n",
       "      <td>2.0</td>\n",
       "      <td>10.00</td>\n",
       "      <td>transporte</td>\n",
       "    </tr>\n",
       "    <tr>\n",
       "      <th>3</th>\n",
       "      <td>2016</td>\n",
       "      <td>Sep</td>\n",
       "      <td>2.0</td>\n",
       "      <td>143.57</td>\n",
       "      <td>transporte</td>\n",
       "    </tr>\n",
       "    <tr>\n",
       "      <th>4</th>\n",
       "      <td>2016</td>\n",
       "      <td>Sep</td>\n",
       "      <td>2.0</td>\n",
       "      <td>50.00</td>\n",
       "      <td>outros</td>\n",
       "    </tr>\n",
       "  </tbody>\n",
       "</table>\n",
       "</div>"
      ],
      "text/plain": [
       "    ano  mês  dia  despesas                       favorecido\n",
       "0  2016  Sep  1.0   2000.00  salários e auxílios alimentação\n",
       "1  2016  Sep  2.0    363.00             ração e agropecuária\n",
       "2  2016  Sep  2.0     10.00                       transporte\n",
       "3  2016  Sep  2.0    143.57                       transporte\n",
       "4  2016  Sep  2.0     50.00                           outros"
      ]
     },
     "execution_count": 14,
     "metadata": {},
     "output_type": "execute_result"
    }
   ],
   "source": [
    "expenses.head()"
   ]
  },
  {
   "cell_type": "code",
   "execution_count": 15,
   "id": "6caab2c0",
   "metadata": {
    "ExecuteTime": {
     "end_time": "2023-03-08T01:00:42.446265Z",
     "start_time": "2023-03-08T01:00:42.430561Z"
    },
    "cell_style": "split",
    "hidden": true
   },
   "outputs": [
    {
     "data": {
      "text/html": [
       "<div>\n",
       "<style scoped>\n",
       "    .dataframe tbody tr th:only-of-type {\n",
       "        vertical-align: middle;\n",
       "    }\n",
       "\n",
       "    .dataframe tbody tr th {\n",
       "        vertical-align: top;\n",
       "    }\n",
       "\n",
       "    .dataframe thead th {\n",
       "        text-align: right;\n",
       "    }\n",
       "</style>\n",
       "<table border=\"1\" class=\"dataframe\">\n",
       "  <thead>\n",
       "    <tr style=\"text-align: right;\">\n",
       "      <th></th>\n",
       "      <th>ano</th>\n",
       "      <th>mês</th>\n",
       "      <th>dia</th>\n",
       "      <th>receita</th>\n",
       "      <th>depositante</th>\n",
       "    </tr>\n",
       "  </thead>\n",
       "  <tbody>\n",
       "    <tr>\n",
       "      <th>0</th>\n",
       "      <td>2016</td>\n",
       "      <td>Sep</td>\n",
       "      <td>1.0</td>\n",
       "      <td>565.0</td>\n",
       "      <td>doações e vendas</td>\n",
       "    </tr>\n",
       "    <tr>\n",
       "      <th>1</th>\n",
       "      <td>2016</td>\n",
       "      <td>Sep</td>\n",
       "      <td>2.0</td>\n",
       "      <td>350.0</td>\n",
       "      <td>doações e vendas</td>\n",
       "    </tr>\n",
       "    <tr>\n",
       "      <th>2</th>\n",
       "      <td>2016</td>\n",
       "      <td>Sep</td>\n",
       "      <td>5.0</td>\n",
       "      <td>360.0</td>\n",
       "      <td>doações e vendas</td>\n",
       "    </tr>\n",
       "    <tr>\n",
       "      <th>3</th>\n",
       "      <td>2016</td>\n",
       "      <td>Sep</td>\n",
       "      <td>6.0</td>\n",
       "      <td>140.0</td>\n",
       "      <td>doações e vendas</td>\n",
       "    </tr>\n",
       "    <tr>\n",
       "      <th>4</th>\n",
       "      <td>2016</td>\n",
       "      <td>Sep</td>\n",
       "      <td>8.0</td>\n",
       "      <td>440.0</td>\n",
       "      <td>doações e vendas</td>\n",
       "    </tr>\n",
       "  </tbody>\n",
       "</table>\n",
       "</div>"
      ],
      "text/plain": [
       "    ano  mês  dia  receita       depositante\n",
       "0  2016  Sep  1.0    565.0  doações e vendas\n",
       "1  2016  Sep  2.0    350.0  doações e vendas\n",
       "2  2016  Sep  5.0    360.0  doações e vendas\n",
       "3  2016  Sep  6.0    140.0  doações e vendas\n",
       "4  2016  Sep  8.0    440.0  doações e vendas"
      ]
     },
     "execution_count": 15,
     "metadata": {},
     "output_type": "execute_result"
    }
   ],
   "source": [
    "income.head()"
   ]
  },
  {
   "cell_type": "markdown",
   "id": "d5b6ae99",
   "metadata": {
    "heading_collapsed": true
   },
   "source": [
    "# Querying for metrics"
   ]
  },
  {
   "cell_type": "markdown",
   "id": "e74ea81f",
   "metadata": {
    "heading_collapsed": true,
    "hidden": true
   },
   "source": [
    "## Total income and expenses / year (2020-2022)"
   ]
  },
  {
   "cell_type": "code",
   "execution_count": 16,
   "id": "5fe23a1c",
   "metadata": {
    "ExecuteTime": {
     "end_time": "2023-03-08T01:00:42.463952Z",
     "start_time": "2023-03-08T01:00:42.447269Z"
    },
    "cell_style": "split",
    "hidden": true
   },
   "outputs": [
    {
     "data": {
      "text/html": [
       "<div>\n",
       "<style scoped>\n",
       "    .dataframe tbody tr th:only-of-type {\n",
       "        vertical-align: middle;\n",
       "    }\n",
       "\n",
       "    .dataframe tbody tr th {\n",
       "        vertical-align: top;\n",
       "    }\n",
       "\n",
       "    .dataframe thead th {\n",
       "        text-align: right;\n",
       "    }\n",
       "</style>\n",
       "<table border=\"1\" class=\"dataframe\">\n",
       "  <thead>\n",
       "    <tr style=\"text-align: right;\">\n",
       "      <th></th>\n",
       "      <th>receita</th>\n",
       "    </tr>\n",
       "    <tr>\n",
       "      <th>ano</th>\n",
       "      <th></th>\n",
       "    </tr>\n",
       "  </thead>\n",
       "  <tbody>\n",
       "    <tr>\n",
       "      <th>2020</th>\n",
       "      <td>164518.09</td>\n",
       "    </tr>\n",
       "    <tr>\n",
       "      <th>2021</th>\n",
       "      <td>204584.25</td>\n",
       "    </tr>\n",
       "    <tr>\n",
       "      <th>2022</th>\n",
       "      <td>209768.74</td>\n",
       "    </tr>\n",
       "  </tbody>\n",
       "</table>\n",
       "</div>"
      ],
      "text/plain": [
       "        receita\n",
       "ano            \n",
       "2020  164518.09\n",
       "2021  204584.25\n",
       "2022  209768.74"
      ]
     },
     "execution_count": 16,
     "metadata": {},
     "output_type": "execute_result"
    }
   ],
   "source": [
    "# total income (2020-2022);\n",
    "income20_22 = income[income['ano'] >= 2020]\n",
    "income20_22[['receita', 'ano']].groupby(by ='ano').sum()"
   ]
  },
  {
   "cell_type": "code",
   "execution_count": 17,
   "id": "8364a4cb",
   "metadata": {
    "ExecuteTime": {
     "end_time": "2023-03-08T01:00:42.495621Z",
     "start_time": "2023-03-08T01:00:42.463952Z"
    },
    "cell_style": "split",
    "hidden": true
   },
   "outputs": [
    {
     "data": {
      "text/html": [
       "<div>\n",
       "<style scoped>\n",
       "    .dataframe tbody tr th:only-of-type {\n",
       "        vertical-align: middle;\n",
       "    }\n",
       "\n",
       "    .dataframe tbody tr th {\n",
       "        vertical-align: top;\n",
       "    }\n",
       "\n",
       "    .dataframe thead th {\n",
       "        text-align: right;\n",
       "    }\n",
       "</style>\n",
       "<table border=\"1\" class=\"dataframe\">\n",
       "  <thead>\n",
       "    <tr style=\"text-align: right;\">\n",
       "      <th></th>\n",
       "      <th>despesas</th>\n",
       "    </tr>\n",
       "    <tr>\n",
       "      <th>ano</th>\n",
       "      <th></th>\n",
       "    </tr>\n",
       "  </thead>\n",
       "  <tbody>\n",
       "    <tr>\n",
       "      <th>2020</th>\n",
       "      <td>166005.92</td>\n",
       "    </tr>\n",
       "    <tr>\n",
       "      <th>2021</th>\n",
       "      <td>204564.25</td>\n",
       "    </tr>\n",
       "    <tr>\n",
       "      <th>2022</th>\n",
       "      <td>209749.74</td>\n",
       "    </tr>\n",
       "  </tbody>\n",
       "</table>\n",
       "</div>"
      ],
      "text/plain": [
       "       despesas\n",
       "ano            \n",
       "2020  166005.92\n",
       "2021  204564.25\n",
       "2022  209749.74"
      ]
     },
     "execution_count": 17,
     "metadata": {},
     "output_type": "execute_result"
    }
   ],
   "source": [
    "# total expenses (2020-2022);\n",
    "expenses20_22 = expenses[expenses['ano'] >= 2020]\n",
    "expenses20_22[['despesas', 'ano']].groupby(by ='ano').sum()"
   ]
  },
  {
   "cell_type": "markdown",
   "id": "76f3d73a",
   "metadata": {
    "heading_collapsed": true,
    "hidden": true
   },
   "source": [
    "## Annual and monthly average income / source  (2020-2022)"
   ]
  },
  {
   "cell_type": "code",
   "execution_count": 18,
   "id": "c69fe4c9",
   "metadata": {
    "ExecuteTime": {
     "end_time": "2023-03-08T01:00:42.511329Z",
     "start_time": "2023-03-08T01:00:42.497224Z"
    },
    "cell_style": "split",
    "hidden": true
   },
   "outputs": [
    {
     "data": {
      "text/html": [
       "<div>\n",
       "<style scoped>\n",
       "    .dataframe tbody tr th:only-of-type {\n",
       "        vertical-align: middle;\n",
       "    }\n",
       "\n",
       "    .dataframe tbody tr th {\n",
       "        vertical-align: top;\n",
       "    }\n",
       "\n",
       "    .dataframe thead th {\n",
       "        text-align: right;\n",
       "    }\n",
       "</style>\n",
       "<table border=\"1\" class=\"dataframe\">\n",
       "  <thead>\n",
       "    <tr style=\"text-align: right;\">\n",
       "      <th></th>\n",
       "      <th>receita</th>\n",
       "    </tr>\n",
       "    <tr>\n",
       "      <th>depositante</th>\n",
       "      <th></th>\n",
       "    </tr>\n",
       "  </thead>\n",
       "  <tbody>\n",
       "    <tr>\n",
       "      <th>outros</th>\n",
       "      <td>134.18</td>\n",
       "    </tr>\n",
       "    <tr>\n",
       "      <th>empréstimos e aplicações</th>\n",
       "      <td>38923.67</td>\n",
       "    </tr>\n",
       "    <tr>\n",
       "      <th>doações e vendas</th>\n",
       "      <td>153899.18</td>\n",
       "    </tr>\n",
       "  </tbody>\n",
       "</table>\n",
       "</div>"
      ],
      "text/plain": [
       "                            receita\n",
       "depositante                        \n",
       "outros                       134.18\n",
       "empréstimos e aplicações   38923.67\n",
       "doações e vendas          153899.18"
      ]
     },
     "execution_count": 18,
     "metadata": {},
     "output_type": "execute_result"
    }
   ],
   "source": [
    "# annual average income/source (2020-2022)\n",
    "def annual_avg(x):\n",
    "    return round(sum(x)/3, 2)\n",
    "income20_22.groupby(['depositante']).aggregate({'receita': annual_avg}).sort_values(by = 'receita', ascending = True)"
   ]
  },
  {
   "cell_type": "code",
   "execution_count": 19,
   "id": "e5a0bffc",
   "metadata": {
    "ExecuteTime": {
     "end_time": "2023-03-08T01:00:42.534475Z",
     "start_time": "2023-03-08T01:00:42.513319Z"
    },
    "cell_style": "split",
    "hidden": true
   },
   "outputs": [
    {
     "data": {
      "text/html": [
       "<div>\n",
       "<style scoped>\n",
       "    .dataframe tbody tr th:only-of-type {\n",
       "        vertical-align: middle;\n",
       "    }\n",
       "\n",
       "    .dataframe tbody tr th {\n",
       "        vertical-align: top;\n",
       "    }\n",
       "\n",
       "    .dataframe thead th {\n",
       "        text-align: right;\n",
       "    }\n",
       "</style>\n",
       "<table border=\"1\" class=\"dataframe\">\n",
       "  <thead>\n",
       "    <tr style=\"text-align: right;\">\n",
       "      <th></th>\n",
       "      <th>receita</th>\n",
       "    </tr>\n",
       "    <tr>\n",
       "      <th>depositante</th>\n",
       "      <th></th>\n",
       "    </tr>\n",
       "  </thead>\n",
       "  <tbody>\n",
       "    <tr>\n",
       "      <th>outros</th>\n",
       "      <td>11.18</td>\n",
       "    </tr>\n",
       "    <tr>\n",
       "      <th>empréstimos e aplicações</th>\n",
       "      <td>3243.64</td>\n",
       "    </tr>\n",
       "    <tr>\n",
       "      <th>doações e vendas</th>\n",
       "      <td>12824.93</td>\n",
       "    </tr>\n",
       "  </tbody>\n",
       "</table>\n",
       "</div>"
      ],
      "text/plain": [
       "                           receita\n",
       "depositante                       \n",
       "outros                       11.18\n",
       "empréstimos e aplicações   3243.64\n",
       "doações e vendas          12824.93"
      ]
     },
     "execution_count": 19,
     "metadata": {},
     "output_type": "execute_result"
    }
   ],
   "source": [
    "# monthly average income/source (2020-2022)\n",
    "def month_avg(x):\n",
    "    return round(sum(x)/(3*12), 2)\n",
    "income20_22.groupby(['depositante']).aggregate({'receita': month_avg}).sort_values(by = 'receita', ascending = True)"
   ]
  },
  {
   "cell_type": "code",
   "execution_count": 20,
   "id": "12fbd38f",
   "metadata": {
    "ExecuteTime": {
     "end_time": "2023-03-08T01:00:42.562248Z",
     "start_time": "2023-03-08T01:00:42.534475Z"
    },
    "hidden": true
   },
   "outputs": [
    {
     "data": {
      "text/html": [
       "<div>\n",
       "<style scoped>\n",
       "    .dataframe tbody tr th:only-of-type {\n",
       "        vertical-align: middle;\n",
       "    }\n",
       "\n",
       "    .dataframe tbody tr th {\n",
       "        vertical-align: top;\n",
       "    }\n",
       "\n",
       "    .dataframe thead th {\n",
       "        text-align: right;\n",
       "    }\n",
       "</style>\n",
       "<table border=\"1\" class=\"dataframe\">\n",
       "  <thead>\n",
       "    <tr style=\"text-align: right;\">\n",
       "      <th></th>\n",
       "      <th></th>\n",
       "      <th>receita</th>\n",
       "    </tr>\n",
       "    <tr>\n",
       "      <th>ano</th>\n",
       "      <th>depositante</th>\n",
       "      <th></th>\n",
       "    </tr>\n",
       "  </thead>\n",
       "  <tbody>\n",
       "    <tr>\n",
       "      <th rowspan=\"3\" valign=\"top\">2020</th>\n",
       "      <th>doações e vendas</th>\n",
       "      <td>139437.56</td>\n",
       "    </tr>\n",
       "    <tr>\n",
       "      <th>empréstimos e aplicações</th>\n",
       "      <td>24731.76</td>\n",
       "    </tr>\n",
       "    <tr>\n",
       "      <th>outros</th>\n",
       "      <td>348.77</td>\n",
       "    </tr>\n",
       "    <tr>\n",
       "      <th rowspan=\"3\" valign=\"top\">2021</th>\n",
       "      <th>doações e vendas</th>\n",
       "      <td>157806.43</td>\n",
       "    </tr>\n",
       "    <tr>\n",
       "      <th>empréstimos e aplicações</th>\n",
       "      <td>46724.04</td>\n",
       "    </tr>\n",
       "    <tr>\n",
       "      <th>outros</th>\n",
       "      <td>53.78</td>\n",
       "    </tr>\n",
       "    <tr>\n",
       "      <th rowspan=\"2\" valign=\"top\">2022</th>\n",
       "      <th>doações e vendas</th>\n",
       "      <td>164453.54</td>\n",
       "    </tr>\n",
       "    <tr>\n",
       "      <th>empréstimos e aplicações</th>\n",
       "      <td>45315.20</td>\n",
       "    </tr>\n",
       "  </tbody>\n",
       "</table>\n",
       "</div>"
      ],
      "text/plain": [
       "                                 receita\n",
       "ano  depositante                        \n",
       "2020 doações e vendas          139437.56\n",
       "     empréstimos e aplicações   24731.76\n",
       "     outros                       348.77\n",
       "2021 doações e vendas          157806.43\n",
       "     empréstimos e aplicações   46724.04\n",
       "     outros                        53.78\n",
       "2022 doações e vendas          164453.54\n",
       "     empréstimos e aplicações   45315.20"
      ]
     },
     "execution_count": 20,
     "metadata": {},
     "output_type": "execute_result"
    }
   ],
   "source": [
    "# annual average income/source (2020-2022)\n",
    "income20_22.groupby(['ano', 'depositante']).aggregate({'receita':sum})"
   ]
  },
  {
   "cell_type": "markdown",
   "id": "4c9326f7",
   "metadata": {
    "heading_collapsed": true,
    "hidden": true
   },
   "source": [
    "## Annual and monthly average expenses / categories (2020-2022)"
   ]
  },
  {
   "cell_type": "code",
   "execution_count": 21,
   "id": "1067f67a",
   "metadata": {
    "ExecuteTime": {
     "end_time": "2023-03-08T01:00:42.580588Z",
     "start_time": "2023-03-08T01:00:42.563859Z"
    },
    "cell_style": "split",
    "hidden": true
   },
   "outputs": [
    {
     "data": {
      "text/html": [
       "<div>\n",
       "<style scoped>\n",
       "    .dataframe tbody tr th:only-of-type {\n",
       "        vertical-align: middle;\n",
       "    }\n",
       "\n",
       "    .dataframe tbody tr th {\n",
       "        vertical-align: top;\n",
       "    }\n",
       "\n",
       "    .dataframe thead th {\n",
       "        text-align: right;\n",
       "    }\n",
       "</style>\n",
       "<table border=\"1\" class=\"dataframe\">\n",
       "  <thead>\n",
       "    <tr style=\"text-align: right;\">\n",
       "      <th></th>\n",
       "      <th>despesas</th>\n",
       "    </tr>\n",
       "    <tr>\n",
       "      <th>favorecido</th>\n",
       "      <th></th>\n",
       "    </tr>\n",
       "  </thead>\n",
       "  <tbody>\n",
       "    <tr>\n",
       "      <th>bazar, divulgação e tecnologias</th>\n",
       "      <td>1386.58</td>\n",
       "    </tr>\n",
       "    <tr>\n",
       "      <th>suprimentos</th>\n",
       "      <td>1929.71</td>\n",
       "    </tr>\n",
       "    <tr>\n",
       "      <th>outros</th>\n",
       "      <td>4507.66</td>\n",
       "    </tr>\n",
       "    <tr>\n",
       "      <th>hospedagem e manutenção de canis</th>\n",
       "      <td>8271.22</td>\n",
       "    </tr>\n",
       "    <tr>\n",
       "      <th>transporte</th>\n",
       "      <td>24367.49</td>\n",
       "    </tr>\n",
       "    <tr>\n",
       "      <th>ração e agropecuária</th>\n",
       "      <td>29323.65</td>\n",
       "    </tr>\n",
       "    <tr>\n",
       "      <th>medicações e veterinário</th>\n",
       "      <td>36519.27</td>\n",
       "    </tr>\n",
       "    <tr>\n",
       "      <th>taxas, tarifas e impostos</th>\n",
       "      <td>42384.97</td>\n",
       "    </tr>\n",
       "    <tr>\n",
       "      <th>salários e auxílios alimentação</th>\n",
       "      <td>44749.42</td>\n",
       "    </tr>\n",
       "  </tbody>\n",
       "</table>\n",
       "</div>"
      ],
      "text/plain": [
       "                                  despesas\n",
       "favorecido                                \n",
       "bazar, divulgação e tecnologias    1386.58\n",
       "suprimentos                        1929.71\n",
       "outros                             4507.66\n",
       "hospedagem e manutenção de canis   8271.22\n",
       "transporte                        24367.49\n",
       "ração e agropecuária              29323.65\n",
       "medicações e veterinário          36519.27\n",
       "taxas, tarifas e impostos         42384.97\n",
       "salários e auxílios alimentação   44749.42"
      ]
     },
     "execution_count": 21,
     "metadata": {},
     "output_type": "execute_result"
    }
   ],
   "source": [
    "# annual average expense/category (2020-2022)\n",
    "expenses20_22.groupby(['favorecido']).aggregate({'despesas': annual_avg}).sort_values(by = 'despesas', ascending = True)"
   ]
  },
  {
   "cell_type": "code",
   "execution_count": 22,
   "id": "a9d26424",
   "metadata": {
    "ExecuteTime": {
     "end_time": "2023-03-08T01:00:42.612653Z",
     "start_time": "2023-03-08T01:00:42.580588Z"
    },
    "cell_style": "split",
    "hidden": true
   },
   "outputs": [
    {
     "data": {
      "text/html": [
       "<div>\n",
       "<style scoped>\n",
       "    .dataframe tbody tr th:only-of-type {\n",
       "        vertical-align: middle;\n",
       "    }\n",
       "\n",
       "    .dataframe tbody tr th {\n",
       "        vertical-align: top;\n",
       "    }\n",
       "\n",
       "    .dataframe thead th {\n",
       "        text-align: right;\n",
       "    }\n",
       "</style>\n",
       "<table border=\"1\" class=\"dataframe\">\n",
       "  <thead>\n",
       "    <tr style=\"text-align: right;\">\n",
       "      <th></th>\n",
       "      <th>despesas</th>\n",
       "    </tr>\n",
       "    <tr>\n",
       "      <th>favorecido</th>\n",
       "      <th></th>\n",
       "    </tr>\n",
       "  </thead>\n",
       "  <tbody>\n",
       "    <tr>\n",
       "      <th>bazar, divulgação e tecnologias</th>\n",
       "      <td>115.55</td>\n",
       "    </tr>\n",
       "    <tr>\n",
       "      <th>suprimentos</th>\n",
       "      <td>160.81</td>\n",
       "    </tr>\n",
       "    <tr>\n",
       "      <th>outros</th>\n",
       "      <td>375.64</td>\n",
       "    </tr>\n",
       "    <tr>\n",
       "      <th>hospedagem e manutenção de canis</th>\n",
       "      <td>689.27</td>\n",
       "    </tr>\n",
       "    <tr>\n",
       "      <th>transporte</th>\n",
       "      <td>2030.62</td>\n",
       "    </tr>\n",
       "    <tr>\n",
       "      <th>ração e agropecuária</th>\n",
       "      <td>2443.64</td>\n",
       "    </tr>\n",
       "    <tr>\n",
       "      <th>medicações e veterinário</th>\n",
       "      <td>3043.27</td>\n",
       "    </tr>\n",
       "    <tr>\n",
       "      <th>taxas, tarifas e impostos</th>\n",
       "      <td>3532.08</td>\n",
       "    </tr>\n",
       "    <tr>\n",
       "      <th>salários e auxílios alimentação</th>\n",
       "      <td>3729.12</td>\n",
       "    </tr>\n",
       "  </tbody>\n",
       "</table>\n",
       "</div>"
      ],
      "text/plain": [
       "                                  despesas\n",
       "favorecido                                \n",
       "bazar, divulgação e tecnologias     115.55\n",
       "suprimentos                         160.81\n",
       "outros                              375.64\n",
       "hospedagem e manutenção de canis    689.27\n",
       "transporte                         2030.62\n",
       "ração e agropecuária               2443.64\n",
       "medicações e veterinário           3043.27\n",
       "taxas, tarifas e impostos          3532.08\n",
       "salários e auxílios alimentação    3729.12"
      ]
     },
     "execution_count": 22,
     "metadata": {},
     "output_type": "execute_result"
    }
   ],
   "source": [
    "# monthly average expense/category (2020-2022)\n",
    "expenses20_22.groupby(['favorecido']).aggregate({'despesas': month_avg}).sort_values(by = 'despesas', ascending = True)"
   ]
  },
  {
   "cell_type": "code",
   "execution_count": 23,
   "id": "60fb3ed5",
   "metadata": {
    "ExecuteTime": {
     "end_time": "2023-03-08T01:00:42.637348Z",
     "start_time": "2023-03-08T01:00:42.614012Z"
    },
    "cell_style": "split",
    "hidden": true
   },
   "outputs": [
    {
     "data": {
      "text/html": [
       "<div>\n",
       "<style scoped>\n",
       "    .dataframe tbody tr th:only-of-type {\n",
       "        vertical-align: middle;\n",
       "    }\n",
       "\n",
       "    .dataframe tbody tr th {\n",
       "        vertical-align: top;\n",
       "    }\n",
       "\n",
       "    .dataframe thead th {\n",
       "        text-align: right;\n",
       "    }\n",
       "</style>\n",
       "<table border=\"1\" class=\"dataframe\">\n",
       "  <thead>\n",
       "    <tr style=\"text-align: right;\">\n",
       "      <th></th>\n",
       "      <th></th>\n",
       "      <th>despesas</th>\n",
       "    </tr>\n",
       "    <tr>\n",
       "      <th>ano</th>\n",
       "      <th>favorecido</th>\n",
       "      <th></th>\n",
       "    </tr>\n",
       "  </thead>\n",
       "  <tbody>\n",
       "    <tr>\n",
       "      <th rowspan=\"9\" valign=\"top\">2020</th>\n",
       "      <th>bazar, divulgação e tecnologias</th>\n",
       "      <td>2360.00</td>\n",
       "    </tr>\n",
       "    <tr>\n",
       "      <th>hospedagem e manutenção de canis</th>\n",
       "      <td>8571.03</td>\n",
       "    </tr>\n",
       "    <tr>\n",
       "      <th>medicações e veterinário</th>\n",
       "      <td>32984.10</td>\n",
       "    </tr>\n",
       "    <tr>\n",
       "      <th>outros</th>\n",
       "      <td>5366.59</td>\n",
       "    </tr>\n",
       "    <tr>\n",
       "      <th>ração e agropecuária</th>\n",
       "      <td>30919.37</td>\n",
       "    </tr>\n",
       "    <tr>\n",
       "      <th>salários e auxílios alimentação</th>\n",
       "      <td>33707.01</td>\n",
       "    </tr>\n",
       "    <tr>\n",
       "      <th>suprimentos</th>\n",
       "      <td>1617.61</td>\n",
       "    </tr>\n",
       "    <tr>\n",
       "      <th>taxas, tarifas e impostos</th>\n",
       "      <td>30577.50</td>\n",
       "    </tr>\n",
       "    <tr>\n",
       "      <th>transporte</th>\n",
       "      <td>19902.71</td>\n",
       "    </tr>\n",
       "    <tr>\n",
       "      <th rowspan=\"9\" valign=\"top\">2021</th>\n",
       "      <th>bazar, divulgação e tecnologias</th>\n",
       "      <td>695.98</td>\n",
       "    </tr>\n",
       "    <tr>\n",
       "      <th>hospedagem e manutenção de canis</th>\n",
       "      <td>8563.57</td>\n",
       "    </tr>\n",
       "    <tr>\n",
       "      <th>medicações e veterinário</th>\n",
       "      <td>31298.24</td>\n",
       "    </tr>\n",
       "    <tr>\n",
       "      <th>outros</th>\n",
       "      <td>4171.41</td>\n",
       "    </tr>\n",
       "    <tr>\n",
       "      <th>ração e agropecuária</th>\n",
       "      <td>29681.08</td>\n",
       "    </tr>\n",
       "    <tr>\n",
       "      <th>salários e auxílios alimentação</th>\n",
       "      <td>55542.14</td>\n",
       "    </tr>\n",
       "    <tr>\n",
       "      <th>suprimentos</th>\n",
       "      <td>1717.74</td>\n",
       "    </tr>\n",
       "    <tr>\n",
       "      <th>taxas, tarifas e impostos</th>\n",
       "      <td>49866.66</td>\n",
       "    </tr>\n",
       "    <tr>\n",
       "      <th>transporte</th>\n",
       "      <td>23027.43</td>\n",
       "    </tr>\n",
       "    <tr>\n",
       "      <th rowspan=\"9\" valign=\"top\">2022</th>\n",
       "      <th>bazar, divulgação e tecnologias</th>\n",
       "      <td>1103.75</td>\n",
       "    </tr>\n",
       "    <tr>\n",
       "      <th>hospedagem e manutenção de canis</th>\n",
       "      <td>7679.06</td>\n",
       "    </tr>\n",
       "    <tr>\n",
       "      <th>medicações e veterinário</th>\n",
       "      <td>45275.47</td>\n",
       "    </tr>\n",
       "    <tr>\n",
       "      <th>outros</th>\n",
       "      <td>3984.99</td>\n",
       "    </tr>\n",
       "    <tr>\n",
       "      <th>ração e agropecuária</th>\n",
       "      <td>27370.49</td>\n",
       "    </tr>\n",
       "    <tr>\n",
       "      <th>salários e auxílios alimentação</th>\n",
       "      <td>44999.10</td>\n",
       "    </tr>\n",
       "    <tr>\n",
       "      <th>suprimentos</th>\n",
       "      <td>2453.78</td>\n",
       "    </tr>\n",
       "    <tr>\n",
       "      <th>taxas, tarifas e impostos</th>\n",
       "      <td>46710.76</td>\n",
       "    </tr>\n",
       "    <tr>\n",
       "      <th>transporte</th>\n",
       "      <td>30172.34</td>\n",
       "    </tr>\n",
       "  </tbody>\n",
       "</table>\n",
       "</div>"
      ],
      "text/plain": [
       "                                       despesas\n",
       "ano  favorecido                                \n",
       "2020 bazar, divulgação e tecnologias    2360.00\n",
       "     hospedagem e manutenção de canis   8571.03\n",
       "     medicações e veterinário          32984.10\n",
       "     outros                             5366.59\n",
       "     ração e agropecuária              30919.37\n",
       "     salários e auxílios alimentação   33707.01\n",
       "     suprimentos                        1617.61\n",
       "     taxas, tarifas e impostos         30577.50\n",
       "     transporte                        19902.71\n",
       "2021 bazar, divulgação e tecnologias     695.98\n",
       "     hospedagem e manutenção de canis   8563.57\n",
       "     medicações e veterinário          31298.24\n",
       "     outros                             4171.41\n",
       "     ração e agropecuária              29681.08\n",
       "     salários e auxílios alimentação   55542.14\n",
       "     suprimentos                        1717.74\n",
       "     taxas, tarifas e impostos         49866.66\n",
       "     transporte                        23027.43\n",
       "2022 bazar, divulgação e tecnologias    1103.75\n",
       "     hospedagem e manutenção de canis   7679.06\n",
       "     medicações e veterinário          45275.47\n",
       "     outros                             3984.99\n",
       "     ração e agropecuária              27370.49\n",
       "     salários e auxílios alimentação   44999.10\n",
       "     suprimentos                        2453.78\n",
       "     taxas, tarifas e impostos         46710.76\n",
       "     transporte                        30172.34"
      ]
     },
     "execution_count": 23,
     "metadata": {},
     "output_type": "execute_result"
    }
   ],
   "source": [
    "# annual average expense/category (2020-2022)\n",
    "expenses20_22.groupby(['ano', 'favorecido']).aggregate({'despesas':sum})"
   ]
  },
  {
   "cell_type": "markdown",
   "id": "c9e0f646",
   "metadata": {
    "hidden": true
   },
   "source": [
    "## Total assisted animals, treatments and costs / animal (2016-2019)"
   ]
  },
  {
   "cell_type": "code",
   "execution_count": 24,
   "id": "5e54c535",
   "metadata": {
    "ExecuteTime": {
     "end_time": "2023-03-08T01:00:42.659590Z",
     "start_time": "2023-03-08T01:00:42.637348Z"
    },
    "cell_style": "split",
    "hidden": true
   },
   "outputs": [
    {
     "data": {
      "text/plain": [
       "1069"
      ]
     },
     "execution_count": 24,
     "metadata": {},
     "output_type": "execute_result"
    }
   ],
   "source": [
    "# total assisted animals (2016-2019) \n",
    "len(animals)"
   ]
  },
  {
   "cell_type": "code",
   "execution_count": 25,
   "id": "41f51fe8",
   "metadata": {
    "ExecuteTime": {
     "end_time": "2023-03-08T01:00:42.688780Z",
     "start_time": "2023-03-08T01:00:42.659590Z"
    },
    "cell_style": "split",
    "hidden": true
   },
   "outputs": [
    {
     "data": {
      "text/plain": [
       "331.1411111111111"
      ]
     },
     "execution_count": 25,
     "metadata": {},
     "output_type": "execute_result"
    }
   ],
   "source": [
    "# yearly average cost/animal 2016-2019\n",
    "# custos totais necessários para alimentação, castração, vacinação, tratamentos, internações, socorro a acidentes (cobras, ouriços, envenenamentos, atropelamentos, brigas)  \n",
    "expenses16_19 = expenses[(expenses['ano'] == 2016) | (expenses['ano'] == 2017) | (expenses['ano'] == 2018) | (expenses['ano'] == 2019)]\n",
    "expenses16_19['despesas'].sum()/4/1026"
   ]
  },
  {
   "cell_type": "code",
   "execution_count": 26,
   "id": "9e61bf43",
   "metadata": {
    "ExecuteTime": {
     "end_time": "2023-03-08T01:00:42.706062Z",
     "start_time": "2023-03-08T01:00:42.692529Z"
    },
    "cell_style": "split",
    "hidden": true
   },
   "outputs": [
    {
     "data": {
      "text/plain": [
       "428"
      ]
     },
     "execution_count": 26,
     "metadata": {},
     "output_type": "execute_result"
    }
   ],
   "source": [
    "# total castrations (2016-2019) \n",
    "len(animals[animals['castrado'] == 'sim'])"
   ]
  },
  {
   "cell_type": "code",
   "execution_count": 27,
   "id": "24659aa4",
   "metadata": {
    "ExecuteTime": {
     "end_time": "2023-03-08T01:00:42.719793Z",
     "start_time": "2023-03-08T01:00:42.706062Z"
    },
    "cell_style": "split",
    "hidden": true
   },
   "outputs": [],
   "source": [
    "# total treatments (2016-2019) \n",
    "animals_dis = animals[['tratamento de sarna (nº de aplicações) total', 'tratamento pulga (nº de aplicações) total', 'vacinas total',  'vermifugo\\ntotal', 'dias de internação (total)']]\n",
    "animals_dis.columns = ['tratamentos sarna', 'tratamentos pulga', 'vacinas', 'vermífugos', 'dias de internação']\n",
    "total_care = round(animals_dis.sum())\n",
    "care_df = pd.DataFrame(total_care)"
   ]
  },
  {
   "cell_type": "code",
   "execution_count": 28,
   "id": "6dee69ae",
   "metadata": {
    "ExecuteTime": {
     "end_time": "2023-03-08T01:00:42.738255Z",
     "start_time": "2023-03-08T01:00:42.719793Z"
    },
    "cell_style": "split",
    "hidden": true,
    "scrolled": true
   },
   "outputs": [
    {
     "data": {
      "text/html": [
       "<div>\n",
       "<style scoped>\n",
       "    .dataframe tbody tr th:only-of-type {\n",
       "        vertical-align: middle;\n",
       "    }\n",
       "\n",
       "    .dataframe tbody tr th {\n",
       "        vertical-align: top;\n",
       "    }\n",
       "\n",
       "    .dataframe thead th {\n",
       "        text-align: right;\n",
       "    }\n",
       "</style>\n",
       "<table border=\"1\" class=\"dataframe\">\n",
       "  <thead>\n",
       "    <tr style=\"text-align: right;\">\n",
       "      <th></th>\n",
       "      <th>total</th>\n",
       "      <th>média/animal</th>\n",
       "    </tr>\n",
       "  </thead>\n",
       "  <tbody>\n",
       "    <tr>\n",
       "      <th>tratamentos sarna</th>\n",
       "      <td>16068</td>\n",
       "      <td>16</td>\n",
       "    </tr>\n",
       "    <tr>\n",
       "      <th>tratamentos pulga</th>\n",
       "      <td>15980</td>\n",
       "      <td>16</td>\n",
       "    </tr>\n",
       "    <tr>\n",
       "      <th>vacinas</th>\n",
       "      <td>1864</td>\n",
       "      <td>2</td>\n",
       "    </tr>\n",
       "    <tr>\n",
       "      <th>vermífugos</th>\n",
       "      <td>6019</td>\n",
       "      <td>6</td>\n",
       "    </tr>\n",
       "    <tr>\n",
       "      <th>dias de internação</th>\n",
       "      <td>6414</td>\n",
       "      <td>6</td>\n",
       "    </tr>\n",
       "  </tbody>\n",
       "</table>\n",
       "</div>"
      ],
      "text/plain": [
       "                    total  média/animal\n",
       "tratamentos sarna   16068            16\n",
       "tratamentos pulga   15980            16\n",
       "vacinas              1864             2\n",
       "vermífugos           6019             6\n",
       "dias de internação   6414             6"
      ]
     },
     "execution_count": 28,
     "metadata": {},
     "output_type": "execute_result"
    }
   ],
   "source": [
    "# total treatments/animal (2016-2019) \n",
    "animal_1 = round(total_care/1026)\n",
    "animal_1\n",
    "care_df['média/animal'] = animal_1\n",
    "care_df.columns = ['total', 'média/animal']\n",
    "care_df['média/animal'] = care_df['média/animal'].astype(int)\n",
    "care_df"
   ]
  },
  {
   "cell_type": "markdown",
   "id": "6da42778",
   "metadata": {},
   "source": [
    "# Saving dataframes to csv files for Tableau visualization"
   ]
  },
  {
   "cell_type": "code",
   "execution_count": 29,
   "id": "04160380",
   "metadata": {
    "ExecuteTime": {
     "end_time": "2023-03-08T01:00:42.796234Z",
     "start_time": "2023-03-08T01:00:42.738255Z"
    },
    "cell_style": "split"
   },
   "outputs": [
    {
     "data": {
      "text/html": [
       "<div>\n",
       "<style scoped>\n",
       "    .dataframe tbody tr th:only-of-type {\n",
       "        vertical-align: middle;\n",
       "    }\n",
       "\n",
       "    .dataframe tbody tr th {\n",
       "        vertical-align: top;\n",
       "    }\n",
       "\n",
       "    .dataframe thead th {\n",
       "        text-align: right;\n",
       "    }\n",
       "</style>\n",
       "<table border=\"1\" class=\"dataframe\">\n",
       "  <thead>\n",
       "    <tr style=\"text-align: right;\">\n",
       "      <th></th>\n",
       "      <th>receita</th>\n",
       "      <th>depositante</th>\n",
       "      <th>data</th>\n",
       "    </tr>\n",
       "  </thead>\n",
       "  <tbody>\n",
       "    <tr>\n",
       "      <th>0</th>\n",
       "      <td>565.00</td>\n",
       "      <td>doações e vendas</td>\n",
       "      <td>2016-09-01</td>\n",
       "    </tr>\n",
       "    <tr>\n",
       "      <th>1</th>\n",
       "      <td>350.00</td>\n",
       "      <td>doações e vendas</td>\n",
       "      <td>2016-09-01</td>\n",
       "    </tr>\n",
       "    <tr>\n",
       "      <th>2</th>\n",
       "      <td>360.00</td>\n",
       "      <td>doações e vendas</td>\n",
       "      <td>2016-09-01</td>\n",
       "    </tr>\n",
       "    <tr>\n",
       "      <th>3</th>\n",
       "      <td>140.00</td>\n",
       "      <td>doações e vendas</td>\n",
       "      <td>2016-09-01</td>\n",
       "    </tr>\n",
       "    <tr>\n",
       "      <th>4</th>\n",
       "      <td>440.00</td>\n",
       "      <td>doações e vendas</td>\n",
       "      <td>2016-09-01</td>\n",
       "    </tr>\n",
       "    <tr>\n",
       "      <th>...</th>\n",
       "      <td>...</td>\n",
       "      <td>...</td>\n",
       "      <td>...</td>\n",
       "    </tr>\n",
       "    <tr>\n",
       "      <th>2171</th>\n",
       "      <td>310.00</td>\n",
       "      <td>doações e vendas</td>\n",
       "      <td>2022-11-01</td>\n",
       "    </tr>\n",
       "    <tr>\n",
       "      <th>2172</th>\n",
       "      <td>144.25</td>\n",
       "      <td>empréstimos e aplicações</td>\n",
       "      <td>2022-11-01</td>\n",
       "    </tr>\n",
       "    <tr>\n",
       "      <th>2173</th>\n",
       "      <td>260.00</td>\n",
       "      <td>doações e vendas</td>\n",
       "      <td>2022-11-01</td>\n",
       "    </tr>\n",
       "    <tr>\n",
       "      <th>2174</th>\n",
       "      <td>30.00</td>\n",
       "      <td>doações e vendas</td>\n",
       "      <td>2022-11-01</td>\n",
       "    </tr>\n",
       "    <tr>\n",
       "      <th>2175</th>\n",
       "      <td>261.30</td>\n",
       "      <td>empréstimos e aplicações</td>\n",
       "      <td>2022-11-01</td>\n",
       "    </tr>\n",
       "  </tbody>\n",
       "</table>\n",
       "<p>2176 rows × 3 columns</p>\n",
       "</div>"
      ],
      "text/plain": [
       "      receita               depositante       data\n",
       "0      565.00          doações e vendas 2016-09-01\n",
       "1      350.00          doações e vendas 2016-09-01\n",
       "2      360.00          doações e vendas 2016-09-01\n",
       "3      140.00          doações e vendas 2016-09-01\n",
       "4      440.00          doações e vendas 2016-09-01\n",
       "...       ...                       ...        ...\n",
       "2171   310.00          doações e vendas 2022-11-01\n",
       "2172   144.25  empréstimos e aplicações 2022-11-01\n",
       "2173   260.00          doações e vendas 2022-11-01\n",
       "2174    30.00          doações e vendas 2022-11-01\n",
       "2175   261.30  empréstimos e aplicações 2022-11-01\n",
       "\n",
       "[2176 rows x 3 columns]"
      ]
     },
     "execution_count": 29,
     "metadata": {},
     "output_type": "execute_result"
    }
   ],
   "source": [
    "# turn all days into '1' and merge date columns\n",
    "income['dia'] = '1'\n",
    "income['data'] = pd.to_datetime(income['dia'].fillna(1).astype(int).astype(str) + '-' + income['mês'].astype(str) + '-' +  income['ano'].astype(str))\n",
    "income.drop(['ano', 'mês', 'dia'], inplace = True, axis = 1)\n",
    "income"
   ]
  },
  {
   "cell_type": "code",
   "execution_count": 30,
   "id": "cfdd5808",
   "metadata": {
    "ExecuteTime": {
     "end_time": "2023-03-08T01:00:42.903194Z",
     "start_time": "2023-03-08T01:00:42.796234Z"
    },
    "cell_style": "split"
   },
   "outputs": [
    {
     "data": {
      "text/html": [
       "<div>\n",
       "<style scoped>\n",
       "    .dataframe tbody tr th:only-of-type {\n",
       "        vertical-align: middle;\n",
       "    }\n",
       "\n",
       "    .dataframe tbody tr th {\n",
       "        vertical-align: top;\n",
       "    }\n",
       "\n",
       "    .dataframe thead th {\n",
       "        text-align: right;\n",
       "    }\n",
       "</style>\n",
       "<table border=\"1\" class=\"dataframe\">\n",
       "  <thead>\n",
       "    <tr style=\"text-align: right;\">\n",
       "      <th></th>\n",
       "      <th>despesas</th>\n",
       "      <th>favorecido</th>\n",
       "      <th>data</th>\n",
       "    </tr>\n",
       "  </thead>\n",
       "  <tbody>\n",
       "    <tr>\n",
       "      <th>0</th>\n",
       "      <td>2000.00</td>\n",
       "      <td>salários e auxílios alimentação</td>\n",
       "      <td>2016-09-01</td>\n",
       "    </tr>\n",
       "    <tr>\n",
       "      <th>1</th>\n",
       "      <td>363.00</td>\n",
       "      <td>ração e agropecuária</td>\n",
       "      <td>2016-09-01</td>\n",
       "    </tr>\n",
       "    <tr>\n",
       "      <th>2</th>\n",
       "      <td>10.00</td>\n",
       "      <td>transporte</td>\n",
       "      <td>2016-09-01</td>\n",
       "    </tr>\n",
       "    <tr>\n",
       "      <th>3</th>\n",
       "      <td>143.57</td>\n",
       "      <td>transporte</td>\n",
       "      <td>2016-09-01</td>\n",
       "    </tr>\n",
       "    <tr>\n",
       "      <th>4</th>\n",
       "      <td>50.00</td>\n",
       "      <td>outros</td>\n",
       "      <td>2016-09-01</td>\n",
       "    </tr>\n",
       "    <tr>\n",
       "      <th>...</th>\n",
       "      <td>...</td>\n",
       "      <td>...</td>\n",
       "      <td>...</td>\n",
       "    </tr>\n",
       "    <tr>\n",
       "      <th>5116</th>\n",
       "      <td>354.25</td>\n",
       "      <td>medicações e veterinário</td>\n",
       "      <td>2022-11-01</td>\n",
       "    </tr>\n",
       "    <tr>\n",
       "      <th>5117</th>\n",
       "      <td>260.00</td>\n",
       "      <td>taxas, tarifas e impostos</td>\n",
       "      <td>2022-11-01</td>\n",
       "    </tr>\n",
       "    <tr>\n",
       "      <th>5118</th>\n",
       "      <td>62.90</td>\n",
       "      <td>ração e agropecuária</td>\n",
       "      <td>2022-11-01</td>\n",
       "    </tr>\n",
       "    <tr>\n",
       "      <th>5119</th>\n",
       "      <td>28.40</td>\n",
       "      <td>medicações e veterinário</td>\n",
       "      <td>2022-11-01</td>\n",
       "    </tr>\n",
       "    <tr>\n",
       "      <th>5120</th>\n",
       "      <td>200.00</td>\n",
       "      <td>salários e auxílios alimentação</td>\n",
       "      <td>2022-11-01</td>\n",
       "    </tr>\n",
       "  </tbody>\n",
       "</table>\n",
       "<p>5121 rows × 3 columns</p>\n",
       "</div>"
      ],
      "text/plain": [
       "      despesas                       favorecido       data\n",
       "0      2000.00  salários e auxílios alimentação 2016-09-01\n",
       "1       363.00             ração e agropecuária 2016-09-01\n",
       "2        10.00                       transporte 2016-09-01\n",
       "3       143.57                       transporte 2016-09-01\n",
       "4        50.00                           outros 2016-09-01\n",
       "...        ...                              ...        ...\n",
       "5116    354.25         medicações e veterinário 2022-11-01\n",
       "5117    260.00        taxas, tarifas e impostos 2022-11-01\n",
       "5118     62.90             ração e agropecuária 2022-11-01\n",
       "5119     28.40         medicações e veterinário 2022-11-01\n",
       "5120    200.00  salários e auxílios alimentação 2022-11-01\n",
       "\n",
       "[5121 rows x 3 columns]"
      ]
     },
     "execution_count": 30,
     "metadata": {},
     "output_type": "execute_result"
    }
   ],
   "source": [
    "# turn all days into '1' and merge date columns\n",
    "expenses['dia'] = '1'\n",
    "expenses['data'] = pd.to_datetime(expenses['dia'].fillna(1).astype(int).astype(str) + '-' + expenses['mês'].astype(str) + '-' +  expenses['ano'].astype(str))\n",
    "expenses.drop(['ano', 'mês', 'dia'], inplace = True, axis = 1)\n",
    "expenses"
   ]
  },
  {
   "cell_type": "code",
   "execution_count": 31,
   "id": "3a7bb161",
   "metadata": {
    "ExecuteTime": {
     "end_time": "2023-03-08T01:00:43.462698Z",
     "start_time": "2023-03-08T01:00:42.903194Z"
    },
    "cell_style": "center"
   },
   "outputs": [],
   "source": [
    "expenses.to_excel('expenses.xlsx', index = False, sheet_name = 'expenses')"
   ]
  },
  {
   "cell_type": "code",
   "execution_count": 32,
   "id": "9b6ff7c5",
   "metadata": {
    "ExecuteTime": {
     "end_time": "2023-03-08T01:00:43.776374Z",
     "start_time": "2023-03-08T01:00:43.468005Z"
    },
    "cell_style": "center"
   },
   "outputs": [],
   "source": [
    "income.to_excel('income.xlsx', index = False, sheet_name = 'income')"
   ]
  },
  {
   "cell_type": "code",
   "execution_count": 33,
   "id": "6643e96c",
   "metadata": {
    "ExecuteTime": {
     "end_time": "2023-03-08T01:00:43.821155Z",
     "start_time": "2023-03-08T01:00:43.776374Z"
    }
   },
   "outputs": [],
   "source": [
    "care_df.to_excel('care.xlsx', sheet_name = 'care')"
   ]
  }
 ],
 "metadata": {
  "kernelspec": {
   "display_name": "Python 3 (ipykernel)",
   "language": "python",
   "name": "python3"
  },
  "language_info": {
   "codemirror_mode": {
    "name": "ipython",
    "version": 3
   },
   "file_extension": ".py",
   "mimetype": "text/x-python",
   "name": "python",
   "nbconvert_exporter": "python",
   "pygments_lexer": "ipython3",
   "version": "3.9.12"
  },
  "toc": {
   "base_numbering": 1,
   "nav_menu": {},
   "number_sections": true,
   "sideBar": true,
   "skip_h1_title": false,
   "title_cell": "Table of Contents",
   "title_sidebar": "Contents",
   "toc_cell": false,
   "toc_position": {},
   "toc_section_display": true,
   "toc_window_display": false
  },
  "varInspector": {
   "cols": {
    "lenName": 16,
    "lenType": 16,
    "lenVar": 40
   },
   "kernels_config": {
    "python": {
     "delete_cmd_postfix": "",
     "delete_cmd_prefix": "del ",
     "library": "var_list.py",
     "varRefreshCmd": "print(var_dic_list())"
    },
    "r": {
     "delete_cmd_postfix": ") ",
     "delete_cmd_prefix": "rm(",
     "library": "var_list.r",
     "varRefreshCmd": "cat(var_dic_list()) "
    }
   },
   "types_to_exclude": [
    "module",
    "function",
    "builtin_function_or_method",
    "instance",
    "_Feature"
   ],
   "window_display": false
  }
 },
 "nbformat": 4,
 "nbformat_minor": 5
}
