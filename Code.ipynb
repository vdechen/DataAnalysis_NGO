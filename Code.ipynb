{
 "cells": [
  {
   "cell_type": "markdown",
   "id": "e7dabf99",
   "metadata": {},
   "source": [
    "# Data reading and cleaning"
   ]
  },
  {
   "cell_type": "code",
   "execution_count": 22,
   "id": "e886cb71",
   "metadata": {
    "ExecuteTime": {
     "end_time": "2023-03-05T13:56:39.537395Z",
     "start_time": "2023-03-05T13:56:39.524773Z"
    }
   },
   "outputs": [],
   "source": [
    "# import libraries and read csv\n",
    "import pandas as pd\n",
    "import numpy as np\n",
    "import re\n",
    "pd.options.display.max_rows = 1000\n",
    "pd.options.display.max_columns = 1000"
   ]
  },
  {
   "cell_type": "code",
   "execution_count": null,
   "id": "5a674b82",
   "metadata": {},
   "outputs": [],
   "source": [
    "# read csv\n",
    "data = pd.read_csv(r\"C:\\Users\\Vanessa\\Downloads\\Projeto Final\\2016 - 2023.csv\", usecols = [0, 1, 2, 4, 5, 7], index_col = None)"
   ]
  },
  {
   "cell_type": "code",
   "execution_count": null,
   "id": "f4c402d7",
   "metadata": {
    "ExecuteTime": {
     "end_time": "2023-03-04T22:08:10.975386Z",
     "start_time": "2023-03-04T22:08:10.798993Z"
    }
   },
   "outputs": [],
   "source": [
    "# split csv into a list a dataframes\n",
    "data_list = np.split(data, data[(data.isna().all(axis = 1))|(data.iloc[:,0].str.contains('MÊS'))].index)"
   ]
  },
  {
   "cell_type": "code",
   "execution_count": null,
   "id": "b88774a1",
   "metadata": {
    "ExecuteTime": {
     "end_time": "2023-03-04T22:08:11.110597Z",
     "start_time": "2023-03-04T22:08:10.976317Z"
    },
    "cell_style": "center"
   },
   "outputs": [],
   "source": [
    "# identify not null dataframes from the list, rename columns and add them to another list\n",
    "clean_data = []\n",
    "for i in data_list:\n",
    "    if i.isna().values.all():\n",
    "        pass\n",
    "    else:\n",
    "        if i.iloc[:,0].str.contains('MÊS').any():\n",
    "            i.columns = ['dia', 'receita', 'depositante', 'despesas', 'favorecido', 'saldo']\n",
    "            clean_data.append(i)            "
   ]
  },
  {
   "cell_type": "code",
   "execution_count": null,
   "id": "f42885d2",
   "metadata": {
    "ExecuteTime": {
     "end_time": "2023-03-04T22:08:14.316979Z",
     "start_time": "2023-03-04T22:08:11.112635Z"
    },
    "cell_style": "center"
   },
   "outputs": [],
   "source": [
    "# add \"month\" and \"year\" columns, reorder columns, drop unwanted rows and save dataframes as excel files\n",
    "for i in range(len(clean_data)):\n",
    "    clean_data[i]['mês'] = re.findall('\\w+', clean_data[i].iloc[0,1])[0]\n",
    "    clean_data[i]['ano'] = '20' + (re.findall('\\w+', clean_data[i].iloc[0,1])[1]) \n",
    "    clean_data[i] = clean_data[i][['ano', 'mês', 'dia', 'receita', 'depositante', 'despesas', 'favorecido', 'saldo']]\n",
    "    clean_data[i].drop(clean_data[i].index[0:3], inplace = True)\n",
    "    clean_data[i].to_excel(f'tabela_{i}.xlsx', index = False)"
   ]
  },
  {
   "cell_type": "code",
   "execution_count": 13,
   "id": "b76a6fa8",
   "metadata": {
    "ExecuteTime": {
     "end_time": "2023-03-05T13:49:02.843289Z",
     "start_time": "2023-03-05T13:49:02.436491Z"
    },
    "cell_style": "center"
   },
   "outputs": [],
   "source": [
    "# read excel files after manual cleaning and join tables in a single dataset\n",
    "tables_df = pd.DataFrame()\n",
    "for i in range(0,82):\n",
    "    a = pd.read_excel(fr\"C:\\Users\\Vanessa\\Downloads\\Dados\\Programas\\Repositório Git\\NGO_DataAnalysis\\clean tables\\tabela_{i}.xls\")\n",
    "    tables_df = pd.concat([tables_df, a], ignore_index = True)"
   ]
  },
  {
   "cell_type": "code",
   "execution_count": 14,
   "id": "45b60b4f",
   "metadata": {
    "ExecuteTime": {
     "end_time": "2023-03-05T13:49:04.398478Z",
     "start_time": "2023-03-05T13:49:04.385888Z"
    },
    "cell_style": "split"
   },
   "outputs": [
    {
     "name": "stderr",
     "output_type": "stream",
     "text": [
      "C:\\Users\\Vanessa\\AppData\\Local\\Temp\\ipykernel_25424\\2054822161.py:3: SettingWithCopyWarning: \n",
      "A value is trying to be set on a copy of a slice from a DataFrame\n",
      "\n",
      "See the caveats in the documentation: https://pandas.pydata.org/pandas-docs/stable/user_guide/indexing.html#returning-a-view-versus-a-copy\n",
      "  expenses.dropna(subset = 'despesas', axis = 0, inplace=True)\n"
     ]
    }
   ],
   "source": [
    "# create \"expenses\" dataframe and drop nulls\n",
    "expenses = tables_df[['ano', 'mês', 'dia', 'despesas', 'favorecido']]\n",
    "expenses.dropna(subset = 'despesas', axis = 0, inplace=True)"
   ]
  },
  {
   "cell_type": "code",
   "execution_count": 4,
   "id": "60be32ab",
   "metadata": {
    "ExecuteTime": {
     "end_time": "2023-03-05T13:44:42.322588Z",
     "start_time": "2023-03-05T13:44:42.292143Z"
    },
    "cell_style": "split"
   },
   "outputs": [
    {
     "name": "stderr",
     "output_type": "stream",
     "text": [
      "C:\\Users\\Vanessa\\AppData\\Local\\Temp\\ipykernel_25424\\3992202683.py:3: SettingWithCopyWarning: \n",
      "A value is trying to be set on a copy of a slice from a DataFrame\n",
      "\n",
      "See the caveats in the documentation: https://pandas.pydata.org/pandas-docs/stable/user_guide/indexing.html#returning-a-view-versus-a-copy\n",
      "  income.dropna(subset = 'receita', axis = 0, inplace=True)\n"
     ]
    }
   ],
   "source": [
    "# create \"income\" dataframe and drop nulls\n",
    "income = tables_df[['ano', 'mês', 'dia', 'receita', 'depositante']]\n",
    "income.dropna(subset = 'receita', axis = 0, inplace=True)"
   ]
  },
  {
   "cell_type": "code",
   "execution_count": 15,
   "id": "82b77731",
   "metadata": {
    "ExecuteTime": {
     "end_time": "2023-03-05T13:49:07.559018Z",
     "start_time": "2023-03-05T13:49:07.409404Z"
    },
    "cell_style": "center",
    "scrolled": true
   },
   "outputs": [
    {
     "name": "stderr",
     "output_type": "stream",
     "text": [
      "C:\\Users\\Vanessa\\AppData\\Local\\Temp\\ipykernel_25424\\1001768419.py:5: SettingWithCopyWarning: \n",
      "A value is trying to be set on a copy of a slice from a DataFrame.\n",
      "Try using .loc[row_indexer,col_indexer] = value instead\n",
      "\n",
      "See the caveats in the documentation: https://pandas.pydata.org/pandas-docs/stable/user_guide/indexing.html#returning-a-view-versus-a-copy\n",
      "  expenses['favorecido'] = sal\n",
      "C:\\Users\\Vanessa\\AppData\\Local\\Temp\\ipykernel_25424\\1001768419.py:9: SettingWithCopyWarning: \n",
      "A value is trying to be set on a copy of a slice from a DataFrame.\n",
      "Try using .loc[row_indexer,col_indexer] = value instead\n",
      "\n",
      "See the caveats in the documentation: https://pandas.pydata.org/pandas-docs/stable/user_guide/indexing.html#returning-a-view-versus-a-copy\n",
      "  expenses['favorecido'] = sup\n",
      "C:\\Users\\Vanessa\\AppData\\Local\\Temp\\ipykernel_25424\\1001768419.py:13: SettingWithCopyWarning: \n",
      "A value is trying to be set on a copy of a slice from a DataFrame.\n",
      "Try using .loc[row_indexer,col_indexer] = value instead\n",
      "\n",
      "See the caveats in the documentation: https://pandas.pydata.org/pandas-docs/stable/user_guide/indexing.html#returning-a-view-versus-a-copy\n",
      "  expenses['favorecido'] = medic\n",
      "C:\\Users\\Vanessa\\AppData\\Local\\Temp\\ipykernel_25424\\1001768419.py:17: SettingWithCopyWarning: \n",
      "A value is trying to be set on a copy of a slice from a DataFrame.\n",
      "Try using .loc[row_indexer,col_indexer] = value instead\n",
      "\n",
      "See the caveats in the documentation: https://pandas.pydata.org/pandas-docs/stable/user_guide/indexing.html#returning-a-view-versus-a-copy\n",
      "  expenses['favorecido'] = hosp\n",
      "C:\\Users\\Vanessa\\AppData\\Local\\Temp\\ipykernel_25424\\1001768419.py:21: SettingWithCopyWarning: \n",
      "A value is trying to be set on a copy of a slice from a DataFrame.\n",
      "Try using .loc[row_indexer,col_indexer] = value instead\n",
      "\n",
      "See the caveats in the documentation: https://pandas.pydata.org/pandas-docs/stable/user_guide/indexing.html#returning-a-view-versus-a-copy\n",
      "  expenses['favorecido'] = rac\n",
      "C:\\Users\\Vanessa\\AppData\\Local\\Temp\\ipykernel_25424\\1001768419.py:25: SettingWithCopyWarning: \n",
      "A value is trying to be set on a copy of a slice from a DataFrame.\n",
      "Try using .loc[row_indexer,col_indexer] = value instead\n",
      "\n",
      "See the caveats in the documentation: https://pandas.pydata.org/pandas-docs/stable/user_guide/indexing.html#returning-a-view-versus-a-copy\n",
      "  expenses['favorecido'] = trans\n",
      "C:\\Users\\Vanessa\\AppData\\Local\\Temp\\ipykernel_25424\\1001768419.py:29: SettingWithCopyWarning: \n",
      "A value is trying to be set on a copy of a slice from a DataFrame.\n",
      "Try using .loc[row_indexer,col_indexer] = value instead\n",
      "\n",
      "See the caveats in the documentation: https://pandas.pydata.org/pandas-docs/stable/user_guide/indexing.html#returning-a-view-versus-a-copy\n",
      "  expenses['favorecido'] = vend\n",
      "C:\\Users\\Vanessa\\AppData\\Local\\Temp\\ipykernel_25424\\1001768419.py:33: SettingWithCopyWarning: \n",
      "A value is trying to be set on a copy of a slice from a DataFrame.\n",
      "Try using .loc[row_indexer,col_indexer] = value instead\n",
      "\n",
      "See the caveats in the documentation: https://pandas.pydata.org/pandas-docs/stable/user_guide/indexing.html#returning-a-view-versus-a-copy\n",
      "  expenses['favorecido'] = emp\n",
      "C:\\Users\\Vanessa\\AppData\\Local\\Temp\\ipykernel_25424\\1001768419.py:37: SettingWithCopyWarning: \n",
      "A value is trying to be set on a copy of a slice from a DataFrame.\n",
      "Try using .loc[row_indexer,col_indexer] = value instead\n",
      "\n",
      "See the caveats in the documentation: https://pandas.pydata.org/pandas-docs/stable/user_guide/indexing.html#returning-a-view-versus-a-copy\n",
      "  expenses['favorecido'] = tax\n"
     ]
    }
   ],
   "source": [
    "# create categories for 'expenses'\n",
    "\n",
    "mask = expenses['favorecido'].str.contains('sal|intercamb|alim|lanch|temperinho|rest|pão|café|panif|doce|confeitaria|subway|gratificação|sabor|hong ju|mansa', flags = re.I)\n",
    "sal = np.where(mask, 'salário e auxílio alimentação', expenses['favorecido'])\n",
    "expenses['favorecido'] = sal\n",
    "\n",
    "mask2 = expenses['favorecido'].str.contains('sup|super|hiper|hipper|mercado|bistek|milium|embala|atacad|cassol|agua|distrib|loja|zeus|comerc', flags = re.I)\n",
    "sup = np.where(mask2, 'suprimentos', expenses['favorecido'])\n",
    "expenses['favorecido'] = sup\n",
    "\n",
    "mask3 = expenses['favorecido'].str.contains('medic|clínica|clinica|vet|remédio|farm|biofilia|gral|asamed|pet|cuidados|panvel|acupuntura|raio x|praiana|castração|tosa|cremat', flags = re.I)\n",
    "medic = np.where(mask3, 'medicações e veterinário', expenses['favorecido'])\n",
    "expenses['favorecido'] = medic\n",
    "\n",
    "mask4 = expenses['favorecido'].str.contains('hosp|poeta|lilian ribeiro|lar|cuidadora|casa|canil|canis|inse', flags = re.I)\n",
    "hosp = np.where(mask4, 'hospedagem e manutenção de canis', expenses['favorecido'])\n",
    "expenses['favorecido'] = hosp\n",
    "\n",
    "mask5 = expenses['favorecido'].str.contains('agro|ração|reção|pecuária|terra|arcadia', flags = re.I)\n",
    "rac = np.where(mask5, 'ração e agropecuária', expenses['favorecido'])\n",
    "expenses['favorecido'] = rac\n",
    "\n",
    "mask7 = expenses['favorecido'].str.contains('combust|escap|posto|seguro|veíc|motorista|car|borrack|park|auto|taxi|táxi|tàxi|frete|motor|estac|floripeças|multa|mecanica|mecânica|mecãnica|parachoque|borrach|estrela|localiza', flags = re.I)\n",
    "trans = np.where(mask7, 'transporte', expenses['favorecido'])\n",
    "expenses['favorecido'] = trans\n",
    "\n",
    "mask6 = expenses['favorecido'].str.contains('camis|malhas|mat|jebelus|agenda|vest|patchwork|plumas|bazar|graf|gráf|digital|mtools|eletr|hd|site|notebook|face|cópias|copia|plot|mídia|chip|marca|mix|print', flags = re.I)\n",
    "vend = np.where(mask6, 'bazar, divulgação e tecnologias', expenses['favorecido'])\n",
    "expenses['favorecido'] = vend\n",
    "\n",
    "mask8 = expenses['favorecido'].str.contains('empr|apli|renda', flags = re.I)\n",
    "emp = np.where(mask8, 'empréstimos e aplicações', expenses['favorecido'])\n",
    "expenses['favorecido'] = emp\n",
    "\n",
    "mask9 = expenses['favorecido'].str.contains('tarif|INSS|IR|taxa|IPVA|DARF|celesc|tim|distrit|alvará|cadastro|licen|trib|certif|dss|cmf', flags = re.I)\n",
    "tax = np.where(mask9, 'taxas, tarifas e impostos', expenses['favorecido'])\n",
    "expenses['favorecido'] = tax"
   ]
  },
  {
   "cell_type": "code",
   "execution_count": 16,
   "id": "df4a3f55",
   "metadata": {
    "ExecuteTime": {
     "end_time": "2023-03-05T13:49:10.468146Z",
     "start_time": "2023-03-05T13:49:10.458586Z"
    },
    "cell_style": "center"
   },
   "outputs": [
    {
     "name": "stderr",
     "output_type": "stream",
     "text": [
      "C:\\Users\\Vanessa\\AppData\\Local\\Temp\\ipykernel_25424\\2674992438.py:12: SettingWithCopyWarning: \n",
      "A value is trying to be set on a copy of a slice from a DataFrame.\n",
      "Try using .loc[row_indexer,col_indexer] = value instead\n",
      "\n",
      "See the caveats in the documentation: https://pandas.pydata.org/pandas-docs/stable/user_guide/indexing.html#returning-a-view-versus-a-copy\n",
      "  expenses['favorecido'] = others\n"
     ]
    }
   ],
   "source": [
    "# create 'other' category for expenses \n",
    "\n",
    "outros_dict = {}\n",
    "for item in expenses['favorecido']:\n",
    "    if str(item) not in ['salário e auxílio alimentação', 'suprimentos', 'medicações e veterinário', 'hospedagem e manutenção de canis', 'ração e agropecuária', 'bazar, divulgação e tecnologias', 'transporte', 'empréstimos e aplicações', 'taxas, tarifas e impostos']:\n",
    "        outros_dict[item] = True\n",
    "\n",
    "others_mask = expenses['favorecido'].map(outros_dict)\n",
    "others_mask = others_mask.fillna(False)\n",
    "others = np.where(others_mask, 'outros', expenses['favorecido'])\n",
    "\n",
    "expenses['favorecido'] = others"
   ]
  },
  {
   "cell_type": "code",
   "execution_count": 6,
   "id": "691263c1",
   "metadata": {
    "ExecuteTime": {
     "end_time": "2023-03-05T13:44:52.240356Z",
     "start_time": "2023-03-05T13:44:52.203306Z"
    },
    "scrolled": true
   },
   "outputs": [
    {
     "name": "stderr",
     "output_type": "stream",
     "text": [
      "C:\\Users\\Vanessa\\AppData\\Local\\Temp\\ipykernel_25424\\1016977526.py:5: SettingWithCopyWarning: \n",
      "A value is trying to be set on a copy of a slice from a DataFrame.\n",
      "Try using .loc[row_indexer,col_indexer] = value instead\n",
      "\n",
      "See the caveats in the documentation: https://pandas.pydata.org/pandas-docs/stable/user_guide/indexing.html#returning-a-view-versus-a-copy\n",
      "  income['depositante'] = doa\n",
      "C:\\Users\\Vanessa\\AppData\\Local\\Temp\\ipykernel_25424\\1016977526.py:9: SettingWithCopyWarning: \n",
      "A value is trying to be set on a copy of a slice from a DataFrame.\n",
      "Try using .loc[row_indexer,col_indexer] = value instead\n",
      "\n",
      "See the caveats in the documentation: https://pandas.pydata.org/pandas-docs/stable/user_guide/indexing.html#returning-a-view-versus-a-copy\n",
      "  income['depositante'] = emp\n",
      "C:\\Users\\Vanessa\\AppData\\Local\\Temp\\ipykernel_25424\\1016977526.py:13: SettingWithCopyWarning: \n",
      "A value is trying to be set on a copy of a slice from a DataFrame.\n",
      "Try using .loc[row_indexer,col_indexer] = value instead\n",
      "\n",
      "See the caveats in the documentation: https://pandas.pydata.org/pandas-docs/stable/user_guide/indexing.html#returning-a-view-versus-a-copy\n",
      "  income['depositante'] = proj\n",
      "C:\\Users\\Vanessa\\AppData\\Local\\Temp\\ipykernel_25424\\1016977526.py:17: SettingWithCopyWarning: \n",
      "A value is trying to be set on a copy of a slice from a DataFrame.\n",
      "Try using .loc[row_indexer,col_indexer] = value instead\n",
      "\n",
      "See the caveats in the documentation: https://pandas.pydata.org/pandas-docs/stable/user_guide/indexing.html#returning-a-view-versus-a-copy\n",
      "  income['depositante'] = gov\n",
      "C:\\Users\\Vanessa\\AppData\\Local\\Temp\\ipykernel_25424\\1016977526.py:21: SettingWithCopyWarning: \n",
      "A value is trying to be set on a copy of a slice from a DataFrame.\n",
      "Try using .loc[row_indexer,col_indexer] = value instead\n",
      "\n",
      "See the caveats in the documentation: https://pandas.pydata.org/pandas-docs/stable/user_guide/indexing.html#returning-a-view-versus-a-copy\n",
      "  income['depositante'] = out\n"
     ]
    }
   ],
   "source": [
    "# create categories for income\n",
    "\n",
    "mask = income['depositante'].str.contains('doaç|ração|v.d.|\\d|DD|cielo|cielo|pag|pic', regex = True, flags = re.I)\n",
    "doa = np.where(mask, 'doações e vendas', income['depositante'])\n",
    "income['depositante'] = doa\n",
    "\n",
    "mask2 = income['depositante'].str.contains('empr|apli|resg|rend', regex = True, flags = re.I)\n",
    "emp = np.where(mask2, 'empréstimos e aplicações', income['depositante'])\n",
    "income['depositante'] = emp\n",
    "\n",
    "mask3 = income['depositante'].str.contains('Pista', regex = True, flags = re.I)\n",
    "proj = np.where(mask3, 'projeto Auto Pista Litoral Sul', income['depositante'])\n",
    "income['depositante'] = proj\n",
    "\n",
    "mask4 = income['depositante'].str.contains('justiça|PMF ', regex = True, flags = re.I)\n",
    "gov = np.where(mask4, 'governo', income['depositante'])\n",
    "income['depositante'] = gov\n",
    "\n",
    "mask5 = income['depositante'].str.contains('div|tran|int|seguro|rog|BB|dif', regex = True, flags = re.I)\n",
    "out = np.where(mask5, 'outros', income['depositante'])\n",
    "income['depositante'] = out"
   ]
  },
  {
   "cell_type": "code",
   "execution_count": 17,
   "id": "dd5cbfa3",
   "metadata": {
    "ExecuteTime": {
     "end_time": "2023-03-05T13:49:16.492751Z",
     "start_time": "2023-03-05T13:49:16.484754Z"
    },
    "cell_style": "split",
    "scrolled": false
   },
   "outputs": [
    {
     "data": {
      "text/plain": [
       "transporte                          1330\n",
       "salário e auxílio alimentação       1025\n",
       "taxas, tarifas e impostos            724\n",
       "ração e agropecuária                 656\n",
       "medicações e veterinário             536\n",
       "outros                               321\n",
       "hospedagem e manutenção de canis     244\n",
       "suprimentos                          203\n",
       "bazar, divulgação e tecnologias       82\n",
       "Name: favorecido, dtype: int64"
      ]
     },
     "execution_count": 17,
     "metadata": {},
     "output_type": "execute_result"
    }
   ],
   "source": [
    "# final categories for 'expenses'\n",
    "expenses['favorecido'].value_counts()"
   ]
  },
  {
   "cell_type": "code",
   "execution_count": 10,
   "id": "ba238202",
   "metadata": {
    "ExecuteTime": {
     "end_time": "2023-03-05T13:45:33.352887Z",
     "start_time": "2023-03-05T13:45:33.345769Z"
    },
    "cell_style": "split"
   },
   "outputs": [
    {
     "data": {
      "text/plain": [
       "doações e vendas                  1710\n",
       "empréstimos e aplicações           411\n",
       "projeto Auto Pista Litoral Sul      31\n",
       "governo                             14\n",
       "outros                              10\n",
       "Name: depositante, dtype: int64"
      ]
     },
     "execution_count": 10,
     "metadata": {},
     "output_type": "execute_result"
    }
   ],
   "source": [
    "# final categories for 'income'\n",
    "income['depositante'].value_counts()"
   ]
  },
  {
   "cell_type": "code",
   "execution_count": 20,
   "id": "b62d4c3c",
   "metadata": {
    "ExecuteTime": {
     "end_time": "2023-03-05T13:56:11.575576Z",
     "start_time": "2023-03-05T13:56:10.590771Z"
    }
   },
   "outputs": [],
   "source": [
    "# read csv\n",
    "animals = pd.read_excel(r\"C:\\Users\\Vanessa\\Downloads\\Projeto Final\\animais_2016_2019.xlsx\", index_col = None)"
   ]
  },
  {
   "cell_type": "code",
   "execution_count": 38,
   "id": "28c64d57",
   "metadata": {
    "ExecuteTime": {
     "end_time": "2023-03-05T14:02:22.317253Z",
     "start_time": "2023-03-05T14:02:22.312323Z"
    }
   },
   "outputs": [],
   "source": [
    "# rename columns\n",
    "animals.columns = animals.columns.str.lower().str.strip()"
   ]
  },
  {
   "cell_type": "markdown",
   "id": "dc46a412",
   "metadata": {
    "heading_collapsed": true
   },
   "source": [
    "# Exploratory analysis"
   ]
  },
  {
   "cell_type": "code",
   "execution_count": null,
   "id": "b1abeba8",
   "metadata": {
    "hidden": true
   },
   "outputs": [],
   "source": [
    "# verificar número atual de animais"
   ]
  },
  {
   "cell_type": "markdown",
   "id": "d5b6ae99",
   "metadata": {
    "heading_collapsed": true
   },
   "source": [
    "# Querying for metrics"
   ]
  },
  {
   "cell_type": "code",
   "execution_count": 40,
   "id": "5fe23a1c",
   "metadata": {
    "ExecuteTime": {
     "end_time": "2023-03-05T14:20:23.540028Z",
     "start_time": "2023-03-05T14:20:23.533565Z"
    },
    "hidden": true
   },
   "outputs": [],
   "source": [
    "# Custos totais para manter as atividades (2016-2023);\n",
    "# Custos/ tipos de recurso (2016-2023);\n",
    "# Média de recursos e custos por animal assistido (2016-2019);\n",
    "# Total histórico de animais assistidos/aldeia (2016-2019."
   ]
  }
 ],
 "metadata": {
  "kernelspec": {
   "display_name": "Python 3 (ipykernel)",
   "language": "python",
   "name": "python3"
  },
  "language_info": {
   "codemirror_mode": {
    "name": "ipython",
    "version": 3
   },
   "file_extension": ".py",
   "mimetype": "text/x-python",
   "name": "python",
   "nbconvert_exporter": "python",
   "pygments_lexer": "ipython3",
   "version": "3.9.12"
  },
  "toc": {
   "base_numbering": 1,
   "nav_menu": {},
   "number_sections": true,
   "sideBar": true,
   "skip_h1_title": false,
   "title_cell": "Table of Contents",
   "title_sidebar": "Contents",
   "toc_cell": false,
   "toc_position": {},
   "toc_section_display": true,
   "toc_window_display": false
  },
  "varInspector": {
   "cols": {
    "lenName": 16,
    "lenType": 16,
    "lenVar": 40
   },
   "kernels_config": {
    "python": {
     "delete_cmd_postfix": "",
     "delete_cmd_prefix": "del ",
     "library": "var_list.py",
     "varRefreshCmd": "print(var_dic_list())"
    },
    "r": {
     "delete_cmd_postfix": ") ",
     "delete_cmd_prefix": "rm(",
     "library": "var_list.r",
     "varRefreshCmd": "cat(var_dic_list()) "
    }
   },
   "types_to_exclude": [
    "module",
    "function",
    "builtin_function_or_method",
    "instance",
    "_Feature"
   ],
   "window_display": false
  }
 },
 "nbformat": 4,
 "nbformat_minor": 5
}
