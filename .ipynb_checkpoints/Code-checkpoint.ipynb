{
 "cells": [
  {
   "cell_type": "code",
   "execution_count": null,
   "id": "5a674b82",
   "metadata": {
    "ExecuteTime": {
     "end_time": "2023-03-06T13:45:49.263611Z",
     "start_time": "2023-03-06T13:45:49.233299Z"
    }
   },
   "outputs": [],
   "source": [
    "# read \"financial\" csv\n",
    "financial = pd.read_csv(r\"C:\\Users\\Vanessa\\Downloads\\Projeto Final\\2016 - 2023.csv\", usecols = [0, 1, 2, 4, 5, 7], index_col = None)"
   ]
  },
  {
   "cell_type": "code",
   "execution_count": null,
   "id": "f4c402d7",
   "metadata": {
    "ExecuteTime": {
     "end_time": "2023-03-06T13:45:50.788841Z",
     "start_time": "2023-03-06T13:45:50.650269Z"
    }
   },
   "outputs": [],
   "source": [
    "# split csv into a list a dataframes\n",
    "financial_list = np.split(financial, financial[(financial.isna().all(axis = 1))|(financial.iloc[:,0].str.contains('MÊS'))].index)"
   ]
  },
  {
   "cell_type": "code",
   "execution_count": null,
   "id": "b88774a1",
   "metadata": {
    "ExecuteTime": {
     "end_time": "2023-03-06T13:45:59.710259Z",
     "start_time": "2023-03-06T13:45:59.213564Z"
    },
    "cell_style": "center"
   },
   "outputs": [],
   "source": [
    "# identify not null dataframes from the list, rename columns and add them to another list\n",
    "clean_data = []\n",
    "for i in financial_list:\n",
    "    if i.isna().values.all():\n",
    "        pass\n",
    "    else:\n",
    "        if i.iloc[:,0].str.contains('MÊS').any():\n",
    "            i.columns = ['dia', 'receita', 'depositante', 'despesas', 'favorecido', 'saldo']\n",
    "            clean_data.append(i)     \n",
    "clean_data"
   ]
  },
  {
   "cell_type": "code",
   "execution_count": null,
   "id": "f42885d2",
   "metadata": {
    "ExecuteTime": {
     "end_time": "2023-03-06T13:40:21.334272Z",
     "start_time": "2023-03-06T13:40:18.080179Z"
    },
    "cell_style": "center"
   },
   "outputs": [],
   "source": [
    "# add \"month\" and \"year\" columns, reorder columns, drop unwanted rows and save dataframes as excel files\n",
    "for i in range(len(clean_data)):\n",
    "    clean_data[i]['mês'] = re.findall('\\w+', clean_data[i].iloc[0,1])[0]\n",
    "    clean_data[i]['ano'] = '20' + (re.findall('\\w+', clean_data[i].iloc[0,1])[1]) \n",
    "    clean_data[i] = clean_data[i][['ano', 'mês', 'dia', 'receita', 'depositante', 'despesas', 'favorecido', 'saldo']]\n",
    "    clean_data[i].drop(clean_data[i].index[0:3], inplace = True)\n",
    "    clean_data[i].to_excel(f'tabela_{i}.xlsx', index = False)"
   ]
  },
  {
   "cell_type": "markdown",
   "id": "e7dabf99",
   "metadata": {},
   "source": [
    "# Data reading and cleaning"
   ]
  },
  {
   "cell_type": "code",
   "execution_count": 3,
   "id": "e886cb71",
   "metadata": {
    "ExecuteTime": {
     "end_time": "2023-03-06T14:29:00.278177Z",
     "start_time": "2023-03-06T14:29:00.261615Z"
    }
   },
   "outputs": [],
   "source": [
    "# import libraries and read csv\n",
    "import pandas as pd\n",
    "import numpy as np\n",
    "import re\n",
    "pd.options.display.max_rows = 1000\n",
    "pd.options.display.max_columns = 1000"
   ]
  },
  {
   "cell_type": "code",
   "execution_count": 4,
   "id": "b76a6fa8",
   "metadata": {
    "ExecuteTime": {
     "end_time": "2023-03-06T14:29:00.990859Z",
     "start_time": "2023-03-06T14:29:00.280176Z"
    },
    "cell_style": "center"
   },
   "outputs": [
    {
     "data": {
      "text/plain": [
       "ano            float64\n",
       "mês             object\n",
       "dia            float64\n",
       "receita         object\n",
       "depositante     object\n",
       "despesas        object\n",
       "favorecido      object\n",
       "saldo           object\n",
       "dtype: object"
      ]
     },
     "execution_count": 4,
     "metadata": {},
     "output_type": "execute_result"
    }
   ],
   "source": [
    "# read excel files after manual cleaning and join tables in a single dataset\n",
    "tables_df = pd.DataFrame()\n",
    "for i in range(0,82):\n",
    "    a = pd.read_excel(fr\"C:\\Users\\Vanessa\\Downloads\\Dados\\Programas\\Repositório Git\\NGO_DataAnalysis\\clean tables\\tabela_{i}.xls\")\n",
    "    tables_df = pd.concat([tables_df, a], ignore_index = True)\n",
    "tables_df.dtypes"
   ]
  },
  {
   "cell_type": "code",
   "execution_count": 5,
   "id": "45b60b4f",
   "metadata": {
    "ExecuteTime": {
     "end_time": "2023-03-06T14:29:01.022025Z",
     "start_time": "2023-03-06T14:29:00.994246Z"
    },
    "cell_style": "split"
   },
   "outputs": [],
   "source": [
    "# create \"expenses\" dataframe and drop nulls\n",
    "expenses = tables_df[['ano', 'mês', 'dia', 'despesas', 'favorecido']].copy()\n",
    "expenses.dropna(subset = 'despesas', axis = 0, inplace=True)\n",
    "expenses.reset_index(drop = True, inplace = True)"
   ]
  },
  {
   "cell_type": "code",
   "execution_count": 6,
   "id": "60be32ab",
   "metadata": {
    "ExecuteTime": {
     "end_time": "2023-03-06T14:29:01.053669Z",
     "start_time": "2023-03-06T14:29:01.025571Z"
    },
    "cell_style": "split"
   },
   "outputs": [],
   "source": [
    "# create \"income\" dataframe and drop nulls\n",
    "income = tables_df[['ano', 'mês', 'dia', 'receita', 'depositante']].copy()\n",
    "income.dropna(subset = 'receita', axis = 0, inplace=True)\n",
    "income.reset_index(drop = True, inplace = True)"
   ]
  },
  {
   "cell_type": "code",
   "execution_count": 7,
   "id": "82b77731",
   "metadata": {
    "ExecuteTime": {
     "end_time": "2023-03-06T14:29:01.225753Z",
     "start_time": "2023-03-06T14:29:01.055009Z"
    },
    "cell_style": "center"
   },
   "outputs": [
    {
     "data": {
      "text/plain": [
       "transporte                          1330\n",
       "salário e auxílio alimentação       1025\n",
       "taxas, tarifas e impostos            724\n",
       "ração e agropecuária                 656\n",
       "medicações e veterinário             536\n",
       "outros                               321\n",
       "hospedagem e manutenção de canis     244\n",
       "suprimentos                          203\n",
       "bazar, divulgação e tecnologias       82\n",
       "Name: favorecido, dtype: int64"
      ]
     },
     "execution_count": 7,
     "metadata": {},
     "output_type": "execute_result"
    }
   ],
   "source": [
    "# create categories for 'expenses'\n",
    "\n",
    "mask = expenses['favorecido'].str.contains('sal|intercamb|alim|lanch|temperinho|rest|pão|café|panif|doce|confeitaria|subway|gratificação|sabor|hong ju|mansa', flags = re.I)\n",
    "sal = np.where(mask, 'salário e auxílio alimentação', expenses['favorecido'])\n",
    "expenses.loc[:,'favorecido'] = sal\n",
    "\n",
    "mask2 = expenses['favorecido'].str.contains('sup|super|hiper|hipper|mercado|bistek|milium|embala|atacad|cassol|agua|distrib|loja|zeus|comerc', flags = re.I)\n",
    "sup = np.where(mask2, 'suprimentos', expenses['favorecido'])\n",
    "expenses.loc[:,'favorecido'] = sup\n",
    "\n",
    "mask3 = expenses['favorecido'].str.contains('medic|clínica|clinica|vet|remédio|farm|biofilia|gral|asamed|pet|cuidados|panvel|acupuntura|raio x|praiana|castração|tosa|cremat', flags = re.I)\n",
    "medic = np.where(mask3, 'medicações e veterinário', expenses['favorecido'])\n",
    "expenses.loc[:,'favorecido'] = medic\n",
    "\n",
    "mask4 = expenses['favorecido'].str.contains('hosp|poeta|lilian ribeiro|lar|cuidadora|casa|canil|canis|inse', flags = re.I)\n",
    "hosp = np.where(mask4, 'hospedagem e manutenção de canis', expenses['favorecido'])\n",
    "expenses.loc[:,'favorecido'] = hosp\n",
    "\n",
    "mask5 = expenses['favorecido'].str.contains('agro|ração|reção|pecuária|terra|arcadia', flags = re.I)\n",
    "rac = np.where(mask5, 'ração e agropecuária', expenses['favorecido'])\n",
    "expenses.loc[:,'favorecido'] = rac\n",
    "\n",
    "mask7 = expenses['favorecido'].str.contains('combust|escap|posto|seguro|veíc|motorista|car|borrack|park|auto|taxi|táxi|tàxi|frete|motor|estac|floripeças|multa|mecanica|mecânica|mecãnica|parachoque|borrach|estrela|localiza', flags = re.I)\n",
    "trans = np.where(mask7, 'transporte', expenses['favorecido'])\n",
    "expenses.loc[:,'favorecido'] = trans\n",
    "\n",
    "mask6 = expenses['favorecido'].str.contains('camis|malhas|mat|jebelus|agenda|vest|patchwork|plumas|bazar|graf|gráf|digital|mtools|eletr|hd|site|notebook|face|cópias|copia|plot|mídia|chip|marca|mix|print', flags = re.I)\n",
    "vend = np.where(mask6, 'bazar, divulgação e tecnologias', expenses['favorecido'])\n",
    "expenses.loc[:,'favorecido'] = vend\n",
    "\n",
    "mask8 = expenses['favorecido'].str.contains('empr|apli|renda', flags = re.I)\n",
    "emp = np.where(mask8, 'empréstimos e aplicações', expenses['favorecido'])\n",
    "expenses.loc[:,'favorecido'] = emp\n",
    "\n",
    "mask9 = expenses['favorecido'].str.contains('tarif|INSS|IR|taxa|IPVA|DARF|celesc|tim|distrit|alvará|cadastro|licen|trib|certif|dss|cmf', flags = re.I)\n",
    "tax = np.where(mask9, 'taxas, tarifas e impostos', expenses['favorecido'])\n",
    "expenses.loc[:,'favorecido'] = tax\n",
    "\n",
    "outros_mask = ~(expenses['favorecido'].isin(['salário e auxílio alimentação', 'suprimentos', 'medicações e veterinário', 'hospedagem e manutenção de canis', 'ração e agropecuária', 'bazar, divulgação e tecnologias', 'transporte', 'empréstimos e aplicações', 'taxas, tarifas e impostos']))\n",
    "expenses.loc[outros_mask,'favorecido'] = \"outros\"\n",
    "expenses['favorecido'].value_counts()"
   ]
  },
  {
   "cell_type": "code",
   "execution_count": 8,
   "id": "691263c1",
   "metadata": {
    "ExecuteTime": {
     "end_time": "2023-03-06T14:29:01.257432Z",
     "start_time": "2023-03-06T14:29:01.226715Z"
    }
   },
   "outputs": [],
   "source": [
    "# create categories for income\n",
    "\n",
    "mask = income['depositante'].str.contains('doaç|ração|v.d.|\\d|DD|cielo|cielo|pag|pic', regex = True, flags = re.I)\n",
    "doa = np.where(mask, 'doações e vendas', income['depositante'])\n",
    "income.loc[:,'depositante'] = doa\n",
    "\n",
    "mask2 = income['depositante'].str.contains('empr|apli|resg|rend', regex = True, flags = re.I)\n",
    "emp = np.where(mask2, 'empréstimos e aplicações', income['depositante'])\n",
    "income.loc[:,'depositante'] = emp\n",
    "\n",
    "mask3 = income['depositante'].str.contains('Pista', regex = True, flags = re.I)\n",
    "proj = np.where(mask3, 'projeto Auto Pista Litoral Sul', income['depositante'])\n",
    "income.loc[:,'depositante'] = proj\n",
    "\n",
    "mask4 = income['depositante'].str.contains('justiça|PMF ', regex = True, flags = re.I)\n",
    "gov = np.where(mask4, 'governo', income['depositante'])\n",
    "income.loc[:,'depositante'] = gov\n",
    "\n",
    "mask5 = income['depositante'].str.contains('div|tran|int|seguro|rog|BB|dif', regex = True, flags = re.I)\n",
    "out = np.where(mask5, 'outros', income['depositante'])\n",
    "income.loc[:,'depositante'] = out"
   ]
  },
  {
   "cell_type": "code",
   "execution_count": 9,
   "id": "dd5cbfa3",
   "metadata": {
    "ExecuteTime": {
     "end_time": "2023-03-06T14:29:01.273548Z",
     "start_time": "2023-03-06T14:29:01.258524Z"
    },
    "cell_style": "split",
    "scrolled": false
   },
   "outputs": [
    {
     "data": {
      "text/plain": [
       "transporte                          1330\n",
       "salário e auxílio alimentação       1025\n",
       "taxas, tarifas e impostos            724\n",
       "ração e agropecuária                 656\n",
       "medicações e veterinário             536\n",
       "outros                               321\n",
       "hospedagem e manutenção de canis     244\n",
       "suprimentos                          203\n",
       "bazar, divulgação e tecnologias       82\n",
       "Name: favorecido, dtype: int64"
      ]
     },
     "execution_count": 9,
     "metadata": {},
     "output_type": "execute_result"
    }
   ],
   "source": [
    "# final categories for 'expenses'\n",
    "expenses['favorecido'].value_counts()"
   ]
  },
  {
   "cell_type": "code",
   "execution_count": 10,
   "id": "ba238202",
   "metadata": {
    "ExecuteTime": {
     "end_time": "2023-03-06T14:29:01.313833Z",
     "start_time": "2023-03-06T14:29:01.276510Z"
    },
    "cell_style": "split"
   },
   "outputs": [
    {
     "data": {
      "text/plain": [
       "doações e vendas                  1710\n",
       "empréstimos e aplicações           411\n",
       "projeto Auto Pista Litoral Sul      31\n",
       "governo                             14\n",
       "outros                              10\n",
       "Name: depositante, dtype: int64"
      ]
     },
     "execution_count": 10,
     "metadata": {},
     "output_type": "execute_result"
    }
   ],
   "source": [
    "# final categories for 'income'\n",
    "income['depositante'].value_counts()"
   ]
  },
  {
   "cell_type": "code",
   "execution_count": 11,
   "id": "61edbb0c",
   "metadata": {
    "ExecuteTime": {
     "end_time": "2023-03-06T14:29:01.349930Z",
     "start_time": "2023-03-06T14:29:01.317221Z"
    },
    "cell_style": "center"
   },
   "outputs": [],
   "source": [
    "#converting data types\n",
    "expenses['despesas'] = expenses['despesas'].astype(str).str.strip()\n",
    "expenses['despesas'] = expenses['despesas'].str.replace(',', '')\n",
    "expenses['despesas'] = expenses['despesas'].astype(float)\n",
    "expenses['ano'] = expenses['ano'].astype(object)\n",
    "income['receita'] = income['receita'].astype(str).str.strip()\n",
    "income['receita'] = income['receita'].str.replace(',', '')\n",
    "income['receita'] = income['receita'].astype(float)"
   ]
  },
  {
   "cell_type": "code",
   "execution_count": 12,
   "id": "b62d4c3c",
   "metadata": {
    "ExecuteTime": {
     "end_time": "2023-03-06T14:29:02.343655Z",
     "start_time": "2023-03-06T14:29:01.354581Z"
    }
   },
   "outputs": [],
   "source": [
    "# read \"animals\" csv\n",
    "animals = pd.read_excel(r\"C:\\Users\\Vanessa\\Downloads\\Projeto Final\\animais_2016_2019.xlsx\", index_col = None)"
   ]
  },
  {
   "cell_type": "code",
   "execution_count": 13,
   "id": "28c64d57",
   "metadata": {
    "ExecuteTime": {
     "end_time": "2023-03-06T14:29:02.358481Z",
     "start_time": "2023-03-06T14:29:02.344658Z"
    }
   },
   "outputs": [],
   "source": [
    "# rename columns\n",
    "animals.columns = animals.columns.str.lower().str.strip()"
   ]
  },
  {
   "cell_type": "markdown",
   "id": "dc46a412",
   "metadata": {},
   "source": [
    "# Exploratory analysis"
   ]
  },
  {
   "cell_type": "code",
   "execution_count": 14,
   "id": "b1abeba8",
   "metadata": {
    "ExecuteTime": {
     "end_time": "2023-03-06T14:29:02.374066Z",
     "start_time": "2023-03-06T14:29:02.359568Z"
    },
    "cell_style": "split"
   },
   "outputs": [
    {
     "name": "stdout",
     "output_type": "stream",
     "text": [
      "<class 'pandas.core.frame.DataFrame'>\n",
      "RangeIndex: 5121 entries, 0 to 5120\n",
      "Data columns (total 5 columns):\n",
      " #   Column      Non-Null Count  Dtype  \n",
      "---  ------      --------------  -----  \n",
      " 0   ano         5121 non-null   object \n",
      " 1   mês         5121 non-null   object \n",
      " 2   dia         5114 non-null   float64\n",
      " 3   despesas    5121 non-null   float64\n",
      " 4   favorecido  5121 non-null   object \n",
      "dtypes: float64(2), object(3)\n",
      "memory usage: 200.2+ KB\n"
     ]
    }
   ],
   "source": [
    "expenses.info()"
   ]
  },
  {
   "cell_type": "code",
   "execution_count": 15,
   "id": "92a51f61",
   "metadata": {
    "ExecuteTime": {
     "end_time": "2023-03-06T14:29:02.390084Z",
     "start_time": "2023-03-06T14:29:02.376071Z"
    },
    "cell_style": "split"
   },
   "outputs": [
    {
     "name": "stdout",
     "output_type": "stream",
     "text": [
      "<class 'pandas.core.frame.DataFrame'>\n",
      "RangeIndex: 2176 entries, 0 to 2175\n",
      "Data columns (total 5 columns):\n",
      " #   Column       Non-Null Count  Dtype  \n",
      "---  ------       --------------  -----  \n",
      " 0   ano          2176 non-null   float64\n",
      " 1   mês          2176 non-null   object \n",
      " 2   dia          2175 non-null   float64\n",
      " 3   receita      2176 non-null   float64\n",
      " 4   depositante  2176 non-null   object \n",
      "dtypes: float64(3), object(2)\n",
      "memory usage: 85.1+ KB\n"
     ]
    }
   ],
   "source": [
    "income.info()"
   ]
  },
  {
   "cell_type": "code",
   "execution_count": 16,
   "id": "0033181d",
   "metadata": {
    "ExecuteTime": {
     "end_time": "2023-03-06T14:29:02.421369Z",
     "start_time": "2023-03-06T14:29:02.392624Z"
    },
    "cell_style": "split"
   },
   "outputs": [
    {
     "data": {
      "text/html": [
       "<div>\n",
       "<style scoped>\n",
       "    .dataframe tbody tr th:only-of-type {\n",
       "        vertical-align: middle;\n",
       "    }\n",
       "\n",
       "    .dataframe tbody tr th {\n",
       "        vertical-align: top;\n",
       "    }\n",
       "\n",
       "    .dataframe thead th {\n",
       "        text-align: right;\n",
       "    }\n",
       "</style>\n",
       "<table border=\"1\" class=\"dataframe\">\n",
       "  <thead>\n",
       "    <tr style=\"text-align: right;\">\n",
       "      <th></th>\n",
       "      <th>ano</th>\n",
       "      <th>mês</th>\n",
       "      <th>dia</th>\n",
       "      <th>despesas</th>\n",
       "      <th>favorecido</th>\n",
       "    </tr>\n",
       "  </thead>\n",
       "  <tbody>\n",
       "    <tr>\n",
       "      <th>0</th>\n",
       "      <td>2016.0</td>\n",
       "      <td>Sep</td>\n",
       "      <td>1.0</td>\n",
       "      <td>2000.00</td>\n",
       "      <td>salário e auxílio alimentação</td>\n",
       "    </tr>\n",
       "    <tr>\n",
       "      <th>1</th>\n",
       "      <td>2016.0</td>\n",
       "      <td>Sep</td>\n",
       "      <td>2.0</td>\n",
       "      <td>363.00</td>\n",
       "      <td>ração e agropecuária</td>\n",
       "    </tr>\n",
       "    <tr>\n",
       "      <th>2</th>\n",
       "      <td>2016.0</td>\n",
       "      <td>Sep</td>\n",
       "      <td>2.0</td>\n",
       "      <td>10.00</td>\n",
       "      <td>transporte</td>\n",
       "    </tr>\n",
       "    <tr>\n",
       "      <th>3</th>\n",
       "      <td>2016.0</td>\n",
       "      <td>Sep</td>\n",
       "      <td>2.0</td>\n",
       "      <td>143.57</td>\n",
       "      <td>transporte</td>\n",
       "    </tr>\n",
       "    <tr>\n",
       "      <th>4</th>\n",
       "      <td>2016.0</td>\n",
       "      <td>Sep</td>\n",
       "      <td>2.0</td>\n",
       "      <td>50.00</td>\n",
       "      <td>outros</td>\n",
       "    </tr>\n",
       "  </tbody>\n",
       "</table>\n",
       "</div>"
      ],
      "text/plain": [
       "      ano  mês  dia  despesas                     favorecido\n",
       "0  2016.0  Sep  1.0   2000.00  salário e auxílio alimentação\n",
       "1  2016.0  Sep  2.0    363.00           ração e agropecuária\n",
       "2  2016.0  Sep  2.0     10.00                     transporte\n",
       "3  2016.0  Sep  2.0    143.57                     transporte\n",
       "4  2016.0  Sep  2.0     50.00                         outros"
      ]
     },
     "execution_count": 16,
     "metadata": {},
     "output_type": "execute_result"
    }
   ],
   "source": [
    "expenses.head()"
   ]
  },
  {
   "cell_type": "code",
   "execution_count": 17,
   "id": "7157249f",
   "metadata": {
    "ExecuteTime": {
     "end_time": "2023-03-06T14:29:02.452901Z",
     "start_time": "2023-03-06T14:29:02.424904Z"
    },
    "cell_style": "split"
   },
   "outputs": [
    {
     "data": {
      "text/html": [
       "<div>\n",
       "<style scoped>\n",
       "    .dataframe tbody tr th:only-of-type {\n",
       "        vertical-align: middle;\n",
       "    }\n",
       "\n",
       "    .dataframe tbody tr th {\n",
       "        vertical-align: top;\n",
       "    }\n",
       "\n",
       "    .dataframe thead th {\n",
       "        text-align: right;\n",
       "    }\n",
       "</style>\n",
       "<table border=\"1\" class=\"dataframe\">\n",
       "  <thead>\n",
       "    <tr style=\"text-align: right;\">\n",
       "      <th></th>\n",
       "      <th>ano</th>\n",
       "      <th>mês</th>\n",
       "      <th>dia</th>\n",
       "      <th>receita</th>\n",
       "      <th>depositante</th>\n",
       "    </tr>\n",
       "  </thead>\n",
       "  <tbody>\n",
       "    <tr>\n",
       "      <th>0</th>\n",
       "      <td>2016.0</td>\n",
       "      <td>Sep</td>\n",
       "      <td>1.0</td>\n",
       "      <td>565.0</td>\n",
       "      <td>doações e vendas</td>\n",
       "    </tr>\n",
       "    <tr>\n",
       "      <th>1</th>\n",
       "      <td>2016.0</td>\n",
       "      <td>Sep</td>\n",
       "      <td>2.0</td>\n",
       "      <td>350.0</td>\n",
       "      <td>doações e vendas</td>\n",
       "    </tr>\n",
       "    <tr>\n",
       "      <th>2</th>\n",
       "      <td>2016.0</td>\n",
       "      <td>Sep</td>\n",
       "      <td>5.0</td>\n",
       "      <td>360.0</td>\n",
       "      <td>doações e vendas</td>\n",
       "    </tr>\n",
       "    <tr>\n",
       "      <th>3</th>\n",
       "      <td>2016.0</td>\n",
       "      <td>Sep</td>\n",
       "      <td>6.0</td>\n",
       "      <td>140.0</td>\n",
       "      <td>doações e vendas</td>\n",
       "    </tr>\n",
       "    <tr>\n",
       "      <th>4</th>\n",
       "      <td>2016.0</td>\n",
       "      <td>Sep</td>\n",
       "      <td>8.0</td>\n",
       "      <td>440.0</td>\n",
       "      <td>doações e vendas</td>\n",
       "    </tr>\n",
       "  </tbody>\n",
       "</table>\n",
       "</div>"
      ],
      "text/plain": [
       "      ano  mês  dia  receita       depositante\n",
       "0  2016.0  Sep  1.0    565.0  doações e vendas\n",
       "1  2016.0  Sep  2.0    350.0  doações e vendas\n",
       "2  2016.0  Sep  5.0    360.0  doações e vendas\n",
       "3  2016.0  Sep  6.0    140.0  doações e vendas\n",
       "4  2016.0  Sep  8.0    440.0  doações e vendas"
      ]
     },
     "execution_count": 17,
     "metadata": {},
     "output_type": "execute_result"
    }
   ],
   "source": [
    "income.head()"
   ]
  },
  {
   "cell_type": "markdown",
   "id": "d5b6ae99",
   "metadata": {},
   "source": [
    "# Querying for metrics"
   ]
  },
  {
   "cell_type": "code",
   "execution_count": 18,
   "id": "5fe23a1c",
   "metadata": {
    "ExecuteTime": {
     "end_time": "2023-03-06T14:29:02.468110Z",
     "start_time": "2023-03-06T14:29:02.455908Z"
    }
   },
   "outputs": [],
   "source": [
    "# Média de recursos e custos por animal assistido (2016-2019)- \n",
    "# Total histórico de animais assistidos/aldeia (2016-2019;\n",
    "# Quantidade de zoonoses tratada pela OBA."
   ]
  },
  {
   "cell_type": "code",
   "execution_count": 69,
   "id": "526b6fcf",
   "metadata": {
    "ExecuteTime": {
     "end_time": "2023-03-06T14:57:58.438109Z",
     "start_time": "2023-03-06T14:57:58.416368Z"
    },
    "cell_style": "center"
   },
   "outputs": [
    {
     "data": {
      "text/html": [
       "<div>\n",
       "<style scoped>\n",
       "    .dataframe tbody tr th:only-of-type {\n",
       "        vertical-align: middle;\n",
       "    }\n",
       "\n",
       "    .dataframe tbody tr th {\n",
       "        vertical-align: top;\n",
       "    }\n",
       "\n",
       "    .dataframe thead th {\n",
       "        text-align: right;\n",
       "    }\n",
       "</style>\n",
       "<table border=\"1\" class=\"dataframe\">\n",
       "  <thead>\n",
       "    <tr style=\"text-align: right;\">\n",
       "      <th></th>\n",
       "      <th>despesas</th>\n",
       "    </tr>\n",
       "    <tr>\n",
       "      <th>ano</th>\n",
       "      <th></th>\n",
       "    </tr>\n",
       "  </thead>\n",
       "  <tbody>\n",
       "    <tr>\n",
       "      <th>2020.0</th>\n",
       "      <td>166005.92</td>\n",
       "    </tr>\n",
       "    <tr>\n",
       "      <th>2021.0</th>\n",
       "      <td>204564.25</td>\n",
       "    </tr>\n",
       "    <tr>\n",
       "      <th>2022.0</th>\n",
       "      <td>209749.74</td>\n",
       "    </tr>\n",
       "  </tbody>\n",
       "</table>\n",
       "</div>"
      ],
      "text/plain": [
       "         despesas\n",
       "ano              \n",
       "2020.0  166005.92\n",
       "2021.0  204564.25\n",
       "2022.0  209749.74"
      ]
     },
     "execution_count": 69,
     "metadata": {},
     "output_type": "execute_result"
    }
   ],
   "source": [
    "# custos totais para manter as atividades (2020-2022);\n",
    "expenses20_22 = expenses[expenses['ano'] >= 2020]\n",
    "expenses20_22[['despesas', 'ano']].groupby(by ='ano').sum()"
   ]
  },
  {
   "cell_type": "code",
   "execution_count": 92,
   "id": "99b58cbe",
   "metadata": {
    "ExecuteTime": {
     "end_time": "2023-03-06T15:07:00.792796Z",
     "start_time": "2023-03-06T15:07:00.779203Z"
    },
    "cell_style": "split"
   },
   "outputs": [
    {
     "data": {
      "text/html": [
       "<div>\n",
       "<style scoped>\n",
       "    .dataframe tbody tr th:only-of-type {\n",
       "        vertical-align: middle;\n",
       "    }\n",
       "\n",
       "    .dataframe tbody tr th {\n",
       "        vertical-align: top;\n",
       "    }\n",
       "\n",
       "    .dataframe thead th {\n",
       "        text-align: right;\n",
       "    }\n",
       "</style>\n",
       "<table border=\"1\" class=\"dataframe\">\n",
       "  <thead>\n",
       "    <tr style=\"text-align: right;\">\n",
       "      <th></th>\n",
       "      <th>despesas</th>\n",
       "    </tr>\n",
       "    <tr>\n",
       "      <th>favorecido</th>\n",
       "      <th></th>\n",
       "    </tr>\n",
       "  </thead>\n",
       "  <tbody>\n",
       "    <tr>\n",
       "      <th>bazar, divulgação e tecnologias</th>\n",
       "      <td>1386.58</td>\n",
       "    </tr>\n",
       "    <tr>\n",
       "      <th>suprimentos</th>\n",
       "      <td>1929.71</td>\n",
       "    </tr>\n",
       "    <tr>\n",
       "      <th>outros</th>\n",
       "      <td>4507.66</td>\n",
       "    </tr>\n",
       "    <tr>\n",
       "      <th>hospedagem e manutenção de canis</th>\n",
       "      <td>8271.22</td>\n",
       "    </tr>\n",
       "    <tr>\n",
       "      <th>transporte</th>\n",
       "      <td>24367.49</td>\n",
       "    </tr>\n",
       "    <tr>\n",
       "      <th>ração e agropecuária</th>\n",
       "      <td>29323.65</td>\n",
       "    </tr>\n",
       "    <tr>\n",
       "      <th>medicações e veterinário</th>\n",
       "      <td>36519.27</td>\n",
       "    </tr>\n",
       "    <tr>\n",
       "      <th>taxas, tarifas e impostos</th>\n",
       "      <td>42384.97</td>\n",
       "    </tr>\n",
       "    <tr>\n",
       "      <th>salário e auxílio alimentação</th>\n",
       "      <td>44749.42</td>\n",
       "    </tr>\n",
       "  </tbody>\n",
       "</table>\n",
       "</div>"
      ],
      "text/plain": [
       "                                  despesas\n",
       "favorecido                                \n",
       "bazar, divulgação e tecnologias    1386.58\n",
       "suprimentos                        1929.71\n",
       "outros                             4507.66\n",
       "hospedagem e manutenção de canis   8271.22\n",
       "transporte                        24367.49\n",
       "ração e agropecuária              29323.65\n",
       "medicações e veterinário          36519.27\n",
       "taxas, tarifas e impostos         42384.97\n",
       "salário e auxílio alimentação     44749.42"
      ]
     },
     "execution_count": 92,
     "metadata": {},
     "output_type": "execute_result"
    }
   ],
   "source": [
    "# média anual total de custos X recurso (2020-2022):\n",
    "def anual_avg(x):\n",
    "    return round(sum(x)/3, 2)\n",
    "expenses20_22.groupby(['favorecido']).aggregate({'despesas': anual_avg}).sort_values(by = 'despesas', ascending = True)"
   ]
  },
  {
   "cell_type": "code",
   "execution_count": 91,
   "id": "a7a55e78",
   "metadata": {
    "ExecuteTime": {
     "end_time": "2023-03-06T15:06:49.968515Z",
     "start_time": "2023-03-06T15:06:49.950646Z"
    },
    "cell_style": "split"
   },
   "outputs": [
    {
     "data": {
      "text/html": [
       "<div>\n",
       "<style scoped>\n",
       "    .dataframe tbody tr th:only-of-type {\n",
       "        vertical-align: middle;\n",
       "    }\n",
       "\n",
       "    .dataframe tbody tr th {\n",
       "        vertical-align: top;\n",
       "    }\n",
       "\n",
       "    .dataframe thead th {\n",
       "        text-align: right;\n",
       "    }\n",
       "</style>\n",
       "<table border=\"1\" class=\"dataframe\">\n",
       "  <thead>\n",
       "    <tr style=\"text-align: right;\">\n",
       "      <th></th>\n",
       "      <th>despesas</th>\n",
       "    </tr>\n",
       "    <tr>\n",
       "      <th>favorecido</th>\n",
       "      <th></th>\n",
       "    </tr>\n",
       "  </thead>\n",
       "  <tbody>\n",
       "    <tr>\n",
       "      <th>bazar, divulgação e tecnologias</th>\n",
       "      <td>115.55</td>\n",
       "    </tr>\n",
       "    <tr>\n",
       "      <th>suprimentos</th>\n",
       "      <td>160.81</td>\n",
       "    </tr>\n",
       "    <tr>\n",
       "      <th>outros</th>\n",
       "      <td>375.64</td>\n",
       "    </tr>\n",
       "    <tr>\n",
       "      <th>hospedagem e manutenção de canis</th>\n",
       "      <td>689.27</td>\n",
       "    </tr>\n",
       "    <tr>\n",
       "      <th>transporte</th>\n",
       "      <td>2030.62</td>\n",
       "    </tr>\n",
       "    <tr>\n",
       "      <th>ração e agropecuária</th>\n",
       "      <td>2443.64</td>\n",
       "    </tr>\n",
       "    <tr>\n",
       "      <th>medicações e veterinário</th>\n",
       "      <td>3043.27</td>\n",
       "    </tr>\n",
       "    <tr>\n",
       "      <th>taxas, tarifas e impostos</th>\n",
       "      <td>3532.08</td>\n",
       "    </tr>\n",
       "    <tr>\n",
       "      <th>salário e auxílio alimentação</th>\n",
       "      <td>3729.12</td>\n",
       "    </tr>\n",
       "  </tbody>\n",
       "</table>\n",
       "</div>"
      ],
      "text/plain": [
       "                                  despesas\n",
       "favorecido                                \n",
       "bazar, divulgação e tecnologias     115.55\n",
       "suprimentos                         160.81\n",
       "outros                              375.64\n",
       "hospedagem e manutenção de canis    689.27\n",
       "transporte                         2030.62\n",
       "ração e agropecuária               2443.64\n",
       "medicações e veterinário           3043.27\n",
       "taxas, tarifas e impostos          3532.08\n",
       "salário e auxílio alimentação      3729.12"
      ]
     },
     "execution_count": 91,
     "metadata": {},
     "output_type": "execute_result"
    }
   ],
   "source": [
    "# média mensal total de custos X recurso (2020-2022):\n",
    "def month_avg(x):\n",
    "    return round(sum(x)/(3*12), 2)\n",
    "expenses20_22.groupby(['favorecido']).aggregate({'despesas': month_avg}).sort_values(by = 'despesas', ascending = True)"
   ]
  },
  {
   "cell_type": "code",
   "execution_count": 72,
   "id": "b011b9ea",
   "metadata": {
    "ExecuteTime": {
     "end_time": "2023-03-06T14:58:33.557853Z",
     "start_time": "2023-03-06T14:58:33.532916Z"
    },
    "cell_style": "split"
   },
   "outputs": [
    {
     "data": {
      "text/html": [
       "<div>\n",
       "<style scoped>\n",
       "    .dataframe tbody tr th:only-of-type {\n",
       "        vertical-align: middle;\n",
       "    }\n",
       "\n",
       "    .dataframe tbody tr th {\n",
       "        vertical-align: top;\n",
       "    }\n",
       "\n",
       "    .dataframe thead th {\n",
       "        text-align: right;\n",
       "    }\n",
       "</style>\n",
       "<table border=\"1\" class=\"dataframe\">\n",
       "  <thead>\n",
       "    <tr style=\"text-align: right;\">\n",
       "      <th></th>\n",
       "      <th></th>\n",
       "      <th>despesas</th>\n",
       "    </tr>\n",
       "    <tr>\n",
       "      <th>ano</th>\n",
       "      <th>favorecido</th>\n",
       "      <th></th>\n",
       "    </tr>\n",
       "  </thead>\n",
       "  <tbody>\n",
       "    <tr>\n",
       "      <th rowspan=\"9\" valign=\"top\">2020.0</th>\n",
       "      <th>bazar, divulgação e tecnologias</th>\n",
       "      <td>2360.00</td>\n",
       "    </tr>\n",
       "    <tr>\n",
       "      <th>hospedagem e manutenção de canis</th>\n",
       "      <td>8571.03</td>\n",
       "    </tr>\n",
       "    <tr>\n",
       "      <th>medicações e veterinário</th>\n",
       "      <td>32984.10</td>\n",
       "    </tr>\n",
       "    <tr>\n",
       "      <th>outros</th>\n",
       "      <td>5366.59</td>\n",
       "    </tr>\n",
       "    <tr>\n",
       "      <th>ração e agropecuária</th>\n",
       "      <td>30919.37</td>\n",
       "    </tr>\n",
       "    <tr>\n",
       "      <th>salário e auxílio alimentação</th>\n",
       "      <td>33707.01</td>\n",
       "    </tr>\n",
       "    <tr>\n",
       "      <th>suprimentos</th>\n",
       "      <td>1617.61</td>\n",
       "    </tr>\n",
       "    <tr>\n",
       "      <th>taxas, tarifas e impostos</th>\n",
       "      <td>30577.50</td>\n",
       "    </tr>\n",
       "    <tr>\n",
       "      <th>transporte</th>\n",
       "      <td>19902.71</td>\n",
       "    </tr>\n",
       "    <tr>\n",
       "      <th rowspan=\"9\" valign=\"top\">2021.0</th>\n",
       "      <th>bazar, divulgação e tecnologias</th>\n",
       "      <td>695.98</td>\n",
       "    </tr>\n",
       "    <tr>\n",
       "      <th>hospedagem e manutenção de canis</th>\n",
       "      <td>8563.57</td>\n",
       "    </tr>\n",
       "    <tr>\n",
       "      <th>medicações e veterinário</th>\n",
       "      <td>31298.24</td>\n",
       "    </tr>\n",
       "    <tr>\n",
       "      <th>outros</th>\n",
       "      <td>4171.41</td>\n",
       "    </tr>\n",
       "    <tr>\n",
       "      <th>ração e agropecuária</th>\n",
       "      <td>29681.08</td>\n",
       "    </tr>\n",
       "    <tr>\n",
       "      <th>salário e auxílio alimentação</th>\n",
       "      <td>55542.14</td>\n",
       "    </tr>\n",
       "    <tr>\n",
       "      <th>suprimentos</th>\n",
       "      <td>1717.74</td>\n",
       "    </tr>\n",
       "    <tr>\n",
       "      <th>taxas, tarifas e impostos</th>\n",
       "      <td>49866.66</td>\n",
       "    </tr>\n",
       "    <tr>\n",
       "      <th>transporte</th>\n",
       "      <td>23027.43</td>\n",
       "    </tr>\n",
       "    <tr>\n",
       "      <th rowspan=\"9\" valign=\"top\">2022.0</th>\n",
       "      <th>bazar, divulgação e tecnologias</th>\n",
       "      <td>1103.75</td>\n",
       "    </tr>\n",
       "    <tr>\n",
       "      <th>hospedagem e manutenção de canis</th>\n",
       "      <td>7679.06</td>\n",
       "    </tr>\n",
       "    <tr>\n",
       "      <th>medicações e veterinário</th>\n",
       "      <td>45275.47</td>\n",
       "    </tr>\n",
       "    <tr>\n",
       "      <th>outros</th>\n",
       "      <td>3984.99</td>\n",
       "    </tr>\n",
       "    <tr>\n",
       "      <th>ração e agropecuária</th>\n",
       "      <td>27370.49</td>\n",
       "    </tr>\n",
       "    <tr>\n",
       "      <th>salário e auxílio alimentação</th>\n",
       "      <td>44999.10</td>\n",
       "    </tr>\n",
       "    <tr>\n",
       "      <th>suprimentos</th>\n",
       "      <td>2453.78</td>\n",
       "    </tr>\n",
       "    <tr>\n",
       "      <th>taxas, tarifas e impostos</th>\n",
       "      <td>46710.76</td>\n",
       "    </tr>\n",
       "    <tr>\n",
       "      <th>transporte</th>\n",
       "      <td>30172.34</td>\n",
       "    </tr>\n",
       "  </tbody>\n",
       "</table>\n",
       "</div>"
      ],
      "text/plain": [
       "                                         despesas\n",
       "ano    favorecido                                \n",
       "2020.0 bazar, divulgação e tecnologias    2360.00\n",
       "       hospedagem e manutenção de canis   8571.03\n",
       "       medicações e veterinário          32984.10\n",
       "       outros                             5366.59\n",
       "       ração e agropecuária              30919.37\n",
       "       salário e auxílio alimentação     33707.01\n",
       "       suprimentos                        1617.61\n",
       "       taxas, tarifas e impostos         30577.50\n",
       "       transporte                        19902.71\n",
       "2021.0 bazar, divulgação e tecnologias     695.98\n",
       "       hospedagem e manutenção de canis   8563.57\n",
       "       medicações e veterinário          31298.24\n",
       "       outros                             4171.41\n",
       "       ração e agropecuária              29681.08\n",
       "       salário e auxílio alimentação     55542.14\n",
       "       suprimentos                        1717.74\n",
       "       taxas, tarifas e impostos         49866.66\n",
       "       transporte                        23027.43\n",
       "2022.0 bazar, divulgação e tecnologias    1103.75\n",
       "       hospedagem e manutenção de canis   7679.06\n",
       "       medicações e veterinário          45275.47\n",
       "       outros                             3984.99\n",
       "       ração e agropecuária              27370.49\n",
       "       salário e auxílio alimentação     44999.10\n",
       "       suprimentos                        2453.78\n",
       "       taxas, tarifas e impostos         46710.76\n",
       "       transporte                        30172.34"
      ]
     },
     "execution_count": 72,
     "metadata": {},
     "output_type": "execute_result"
    }
   ],
   "source": [
    "# custos/tipos de recurso (2020-2022);\n",
    "expenses20_22.groupby(['ano', 'favorecido']).aggregate({'despesas':sum})"
   ]
  },
  {
   "cell_type": "code",
   "execution_count": null,
   "id": "bc00caac",
   "metadata": {},
   "outputs": [],
   "source": [
    "# total de animais 2022 / custos 2022"
   ]
  }
 ],
 "metadata": {
  "kernelspec": {
   "display_name": "Python 3 (ipykernel)",
   "language": "python",
   "name": "python3"
  },
  "language_info": {
   "codemirror_mode": {
    "name": "ipython",
    "version": 3
   },
   "file_extension": ".py",
   "mimetype": "text/x-python",
   "name": "python",
   "nbconvert_exporter": "python",
   "pygments_lexer": "ipython3",
   "version": "3.9.12"
  },
  "toc": {
   "base_numbering": 1,
   "nav_menu": {},
   "number_sections": true,
   "sideBar": true,
   "skip_h1_title": false,
   "title_cell": "Table of Contents",
   "title_sidebar": "Contents",
   "toc_cell": false,
   "toc_position": {},
   "toc_section_display": true,
   "toc_window_display": false
  },
  "varInspector": {
   "cols": {
    "lenName": 16,
    "lenType": 16,
    "lenVar": 40
   },
   "kernels_config": {
    "python": {
     "delete_cmd_postfix": "",
     "delete_cmd_prefix": "del ",
     "library": "var_list.py",
     "varRefreshCmd": "print(var_dic_list())"
    },
    "r": {
     "delete_cmd_postfix": ") ",
     "delete_cmd_prefix": "rm(",
     "library": "var_list.r",
     "varRefreshCmd": "cat(var_dic_list()) "
    }
   },
   "types_to_exclude": [
    "module",
    "function",
    "builtin_function_or_method",
    "instance",
    "_Feature"
   ],
   "window_display": false
  }
 },
 "nbformat": 4,
 "nbformat_minor": 5
}
